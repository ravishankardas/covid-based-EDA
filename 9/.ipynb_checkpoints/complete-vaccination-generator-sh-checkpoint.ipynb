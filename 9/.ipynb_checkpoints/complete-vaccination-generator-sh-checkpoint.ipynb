{
 "cells": [
  {
   "cell_type": "code",
   "execution_count": 1,
   "id": "adc0f8ab",
   "metadata": {},
   "outputs": [],
   "source": [
    "import pandas as pd\n",
    "import numpy as np"
   ]
  },
  {
   "cell_type": "code",
   "execution_count": 2,
   "id": "fca91f6b",
   "metadata": {},
   "outputs": [],
   "source": [
    "data = pd.read_csv('cowin_vaccine_data_districtwise.csv',low_memory=False)"
   ]
  },
  {
   "cell_type": "code",
   "execution_count": 3,
   "id": "2a5d8153",
   "metadata": {},
   "outputs": [],
   "source": [
    "newData = pd.read_excel('DDW_PCA0000_2011_Indiastatedist.xlsx')"
   ]
  },
  {
   "cell_type": "code",
   "execution_count": 4,
   "id": "8d61bd1b",
   "metadata": {},
   "outputs": [],
   "source": [
    "popdata = newData[['Level','Name','TOT_P']].copy()"
   ]
  },
  {
   "cell_type": "code",
   "execution_count": 5,
   "id": "4e776b28",
   "metadata": {},
   "outputs": [],
   "source": [
    "rslt_df = popdata[popdata['Level'] == 'STATE'].copy()"
   ]
  },
  {
   "cell_type": "code",
   "execution_count": 6,
   "id": "f6dc654e",
   "metadata": {},
   "outputs": [],
   "source": [
    "rslt_df.drop_duplicates(subset =\"Name\",keep = 'first', inplace = True)"
   ]
  },
  {
   "cell_type": "code",
   "execution_count": 7,
   "id": "55b27d9b",
   "metadata": {},
   "outputs": [],
   "source": [
    "rslt_df['Name']=rslt_df['Name'].str.lower()"
   ]
  },
  {
   "cell_type": "code",
   "execution_count": 8,
   "id": "9a4fbfcc",
   "metadata": {},
   "outputs": [],
   "source": [
    "rslt_df.sort_values(\"Name\", axis = 0, ascending = True,inplace = True)"
   ]
  },
  {
   "cell_type": "code",
   "execution_count": 9,
   "id": "173a07ca",
   "metadata": {},
   "outputs": [],
   "source": [
    "rslt_df.reset_index(inplace = True)"
   ]
  },
  {
   "cell_type": "code",
   "execution_count": 10,
   "id": "41a375ad",
   "metadata": {},
   "outputs": [],
   "source": [
    "newrslt_df = rslt_df[['Name','TOT_P']].copy()"
   ]
  },
  {
   "cell_type": "code",
   "execution_count": 11,
   "id": "55ce0ab1",
   "metadata": {},
   "outputs": [],
   "source": [
    "newrslt_df.rename(columns = {'Name':'State'}, inplace = True)"
   ]
  },
  {
   "cell_type": "code",
   "execution_count": 12,
   "id": "5b09e73e",
   "metadata": {},
   "outputs": [],
   "source": [
    "data = data.rename(columns = data.iloc[0])"
   ]
  },
  {
   "cell_type": "code",
   "execution_count": 13,
   "id": "feaab830",
   "metadata": {},
   "outputs": [],
   "source": [
    "data1 = data[['State_Code','State','District','Total Doses Administered']].copy()"
   ]
  },
  {
   "cell_type": "code",
   "execution_count": 14,
   "id": "9420e79c",
   "metadata": {},
   "outputs": [],
   "source": [
    "data1['District'] = data1['District'].str.lower()"
   ]
  },
  {
   "cell_type": "code",
   "execution_count": 15,
   "id": "bed1d58f",
   "metadata": {},
   "outputs": [],
   "source": [
    "data1 = data1.iloc[1:,:]"
   ]
  },
  {
   "cell_type": "code",
   "execution_count": 16,
   "id": "925546cf",
   "metadata": {},
   "outputs": [],
   "source": [
    "data1.sort_values(\"District\", axis = 0, ascending = True,inplace = True)"
   ]
  },
  {
   "cell_type": "code",
   "execution_count": 17,
   "id": "6fcfcd4d",
   "metadata": {},
   "outputs": [],
   "source": [
    "data1.drop_duplicates(subset =\"District\",keep = 'first', inplace = True)"
   ]
  },
  {
   "cell_type": "code",
   "execution_count": 18,
   "id": "e1af57a5",
   "metadata": {},
   "outputs": [],
   "source": [
    "state_key = data1[['District']].copy()"
   ]
  },
  {
   "cell_type": "code",
   "execution_count": 19,
   "id": "3dc8d066",
   "metadata": {},
   "outputs": [],
   "source": [
    "cols = []\n",
    "count = 1\n",
    "for column in data1.columns:\n",
    "    if column == 'Total Doses Administered':\n",
    "        cols.append(f'Total Doses Administered{count}')\n",
    "        count+=1\n",
    "        continue\n",
    "    cols.append(column)\n",
    "data1.columns = cols"
   ]
  },
  {
   "cell_type": "code",
   "execution_count": 20,
   "id": "05014a3a",
   "metadata": {},
   "outputs": [],
   "source": [
    "data1.sort_values(\"State_Code\", axis = 0, ascending = True,inplace = True)"
   ]
  },
  {
   "cell_type": "code",
   "execution_count": 21,
   "id": "4fc4e9e6",
   "metadata": {},
   "outputs": [],
   "source": [
    "res = data1[['State_Code','State','Total Doses Administered51']].copy()"
   ]
  },
  {
   "cell_type": "code",
   "execution_count": 22,
   "id": "33240248",
   "metadata": {},
   "outputs": [],
   "source": [
    "res['State'] = res['State'].str.lower()"
   ]
  },
  {
   "cell_type": "code",
   "execution_count": 23,
   "id": "f7894519",
   "metadata": {},
   "outputs": [],
   "source": [
    "res.rename(columns = {'Total Doses Administered51':'total_doses'}, inplace = True)"
   ]
  },
  {
   "cell_type": "code",
   "execution_count": 24,
   "id": "e5b840d1",
   "metadata": {},
   "outputs": [],
   "source": [
    "res['total_doses'] = pd.to_numeric(res['total_doses'])"
   ]
  },
  {
   "cell_type": "code",
   "execution_count": 25,
   "id": "8ea6f4bd",
   "metadata": {},
   "outputs": [],
   "source": [
    "newres = res.groupby(['State'])['total_doses'].sum().reset_index()"
   ]
  },
  {
   "cell_type": "code",
   "execution_count": 26,
   "id": "513ebfb5",
   "metadata": {},
   "outputs": [],
   "source": [
    "int_df = pd.merge(newres, newrslt_df, how ='inner', on =['State'])"
   ]
  },
  {
   "cell_type": "code",
   "execution_count": 27,
   "id": "c0ed8eef",
   "metadata": {},
   "outputs": [],
   "source": [
    "int_df['total_doses'] = pd.to_numeric(int_df['total_doses'])\n",
    "int_df['TOT_P'] = pd.to_numeric(int_df['TOT_P'])"
   ]
  },
  {
   "cell_type": "code",
   "execution_count": 28,
   "id": "aa0b6727",
   "metadata": {},
   "outputs": [],
   "source": [
    "int_df['populationleft'] = int_df['TOT_P']-int_df['total_doses']"
   ]
  },
  {
   "cell_type": "code",
   "execution_count": 29,
   "id": "1df81882",
   "metadata": {},
   "outputs": [],
   "source": [
    "int_df['populationleft'] = int_df['populationleft'].abs()"
   ]
  },
  {
   "cell_type": "code",
   "execution_count": 30,
   "id": "c11124a6",
   "metadata": {},
   "outputs": [
    {
     "data": {
      "text/plain": [
       "0        380581\n",
       "1      84580777\n",
       "2       1383727\n",
       "3      31205576\n",
       "4     104099452\n",
       "5       1055450\n",
       "6      25545198\n",
       "7      16787941\n",
       "8       1458545\n",
       "9      60439692\n",
       "10     25351462\n",
       "11      6864602\n",
       "12     12541302\n",
       "13     32988134\n",
       "14     61095297\n",
       "15     33406061\n",
       "16        64473\n",
       "17     72626809\n",
       "18    112374333\n",
       "19      2855794\n",
       "20      2966889\n",
       "21      1097206\n",
       "22      1978502\n",
       "23     41974218\n",
       "24      1247953\n",
       "25     27743338\n",
       "26     68548437\n",
       "27       610577\n",
       "28     72147030\n",
       "29      3673917\n",
       "30    199812341\n",
       "31     10086292\n",
       "32     91276115\n",
       "Name: TOT_P, dtype: int64"
      ]
     },
     "execution_count": 30,
     "metadata": {},
     "output_type": "execute_result"
    }
   ],
   "source": [
    "int_df.pop('TOT_P')"
   ]
  },
  {
   "cell_type": "code",
   "execution_count": 31,
   "id": "f9e93203",
   "metadata": {},
   "outputs": [
    {
     "data": {
      "text/plain": [
       "0       329996\n",
       "1     25001353\n",
       "2       862743\n",
       "3     13872953\n",
       "4     30026645\n",
       "5       977930\n",
       "6     12159392\n",
       "7     11516003\n",
       "8      1442724\n",
       "9     33578081\n",
       "10    13683611\n",
       "11     5581379\n",
       "12     7119659\n",
       "13    10932852\n",
       "14    26398093\n",
       "15    23939504\n",
       "16       69553\n",
       "17    37758265\n",
       "18    47866290\n",
       "19     1440236\n",
       "20     1226159\n",
       "21      713417\n",
       "22      807319\n",
       "23    19484581\n",
       "24      773514\n",
       "25    10924652\n",
       "26    35431048\n",
       "27      658871\n",
       "28    23348534\n",
       "29     3260483\n",
       "30    56769026\n",
       "31     7218311\n",
       "32    26496516\n",
       "Name: total_doses, dtype: int64"
      ]
     },
     "execution_count": 31,
     "metadata": {},
     "output_type": "execute_result"
    }
   ],
   "source": [
    "int_df.pop('total_doses')"
   ]
  },
  {
   "cell_type": "code",
   "execution_count": 32,
   "id": "524c1252",
   "metadata": {},
   "outputs": [],
   "source": [
    "new_the = data1.copy(deep=True)"
   ]
  },
  {
   "cell_type": "code",
   "execution_count": 33,
   "id": "1fa742e1",
   "metadata": {},
   "outputs": [],
   "source": [
    "change=data1.copy(deep=True)"
   ]
  },
  {
   "cell_type": "code",
   "execution_count": 34,
   "id": "f4615091",
   "metadata": {},
   "outputs": [],
   "source": [
    "dist_code = change[['State']].copy()"
   ]
  },
  {
   "cell_type": "code",
   "execution_count": 35,
   "id": "36c58e65",
   "metadata": {},
   "outputs": [],
   "source": [
    "new_change = change.drop(['State_Code','State','District'],axis=1)"
   ]
  },
  {
   "cell_type": "code",
   "execution_count": 36,
   "id": "d88820cf",
   "metadata": {},
   "outputs": [],
   "source": [
    "new_change = new_change.apply(pd.to_numeric)"
   ]
  },
  {
   "cell_type": "code",
   "execution_count": 37,
   "id": "e56ca084",
   "metadata": {},
   "outputs": [],
   "source": [
    "new_change.drop(['Total Doses Administered52','Total Doses Administered53','Total Doses Administered54','Total Doses Administered55','Total Doses Administered56','Total Doses Administered57','Total Doses Administered58','Total Doses Administered59','Total Doses Administered60','Total Doses Administered61','Total Doses Administered62','Total Doses Administered63','Total Doses Administered64','Total Doses Administered65','Total Doses Administered66','Total Doses Administered67','Total Doses Administered68','Total Doses Administered69'], axis = 1, inplace = True)"
   ]
  },
  {
   "cell_type": "code",
   "execution_count": 38,
   "id": "04afc3ca",
   "metadata": {},
   "outputs": [],
   "source": [
    "a = new_change.to_numpy()"
   ]
  },
  {
   "cell_type": "code",
   "execution_count": 39,
   "id": "bbc0ad99",
   "metadata": {},
   "outputs": [],
   "source": [
    "new_a = np.diff(a) / a[:,1:] * 100"
   ]
  },
  {
   "cell_type": "code",
   "execution_count": 40,
   "id": "3fbfd9d3",
   "metadata": {},
   "outputs": [],
   "source": [
    "stuff = pd.DataFrame(new_a)"
   ]
  },
  {
   "cell_type": "code",
   "execution_count": 41,
   "id": "79e9615f",
   "metadata": {},
   "outputs": [],
   "source": [
    "col_list_z= list(stuff)"
   ]
  },
  {
   "cell_type": "code",
   "execution_count": 42,
   "id": "ee54428c",
   "metadata": {},
   "outputs": [],
   "source": [
    "stuff['rateofvaccination'] = stuff[col_list_z].sum(axis=1)"
   ]
  },
  {
   "cell_type": "code",
   "execution_count": 43,
   "id": "effc9452",
   "metadata": {},
   "outputs": [],
   "source": [
    "n_stuff = stuff[['rateofvaccination']].copy()"
   ]
  },
  {
   "cell_type": "code",
   "execution_count": 44,
   "id": "2a19ea5a",
   "metadata": {},
   "outputs": [],
   "source": [
    "frames = [dist_code,n_stuff]"
   ]
  },
  {
   "cell_type": "code",
   "execution_count": 45,
   "id": "451c8711",
   "metadata": {},
   "outputs": [],
   "source": [
    "result = pd.concat(frames, axis=1, join='inner')"
   ]
  },
  {
   "cell_type": "code",
   "execution_count": 46,
   "id": "20e2b67a",
   "metadata": {},
   "outputs": [],
   "source": [
    "result['State'] = result['State'].str.lower()"
   ]
  },
  {
   "cell_type": "code",
   "execution_count": 47,
   "id": "e799ff8b",
   "metadata": {},
   "outputs": [],
   "source": [
    "some = result.groupby(['State'])['rateofvaccination'].mean().reset_index()"
   ]
  },
  {
   "cell_type": "code",
   "execution_count": 48,
   "id": "6f6d16d2",
   "metadata": {},
   "outputs": [],
   "source": [
    "some = some.iloc[1:,:]"
   ]
  },
  {
   "cell_type": "code",
   "execution_count": 49,
   "id": "d39162c3",
   "metadata": {},
   "outputs": [],
   "source": [
    "some.reset_index(inplace = True)"
   ]
  },
  {
   "cell_type": "code",
   "execution_count": 50,
   "id": "7a1e85fa",
   "metadata": {},
   "outputs": [
    {
     "data": {
      "text/plain": [
       "0      1\n",
       "1      2\n",
       "2      3\n",
       "3      4\n",
       "4      5\n",
       "5      6\n",
       "6      7\n",
       "7      8\n",
       "8      9\n",
       "9     10\n",
       "10    11\n",
       "11    12\n",
       "12    13\n",
       "13    14\n",
       "14    15\n",
       "15    16\n",
       "16    17\n",
       "17    18\n",
       "18    19\n",
       "19    20\n",
       "20    21\n",
       "21    22\n",
       "22    23\n",
       "23    24\n",
       "24    25\n",
       "25    26\n",
       "26    27\n",
       "27    28\n",
       "28    29\n",
       "29    30\n",
       "30    31\n",
       "31    32\n",
       "32    33\n",
       "33    34\n",
       "Name: index, dtype: int64"
      ]
     },
     "execution_count": 50,
     "metadata": {},
     "output_type": "execute_result"
    }
   ],
   "source": [
    "some.pop('index')"
   ]
  },
  {
   "cell_type": "code",
   "execution_count": 51,
   "id": "85667f20",
   "metadata": {},
   "outputs": [],
   "source": [
    "final1 = pd.merge(some, int_df, how ='inner', on =['State'])"
   ]
  },
  {
   "cell_type": "code",
   "execution_count": 52,
   "id": "b15cd18a",
   "metadata": {},
   "outputs": [],
   "source": [
    "final1.sort_values(\"State\", axis = 0, ascending = True,inplace = True)"
   ]
  },
  {
   "cell_type": "code",
   "execution_count": 53,
   "id": "e43de978",
   "metadata": {},
   "outputs": [],
   "source": [
    "new_final1 = final1[['State','populationleft','rateofvaccination']].copy()"
   ]
  },
  {
   "cell_type": "code",
   "execution_count": 54,
   "id": "456f8d43",
   "metadata": {},
   "outputs": [],
   "source": [
    "new_final1['days'] = new_final1['populationleft']/new_final1['rateofvaccination']"
   ]
  },
  {
   "cell_type": "code",
   "execution_count": 55,
   "id": "ef6d960d",
   "metadata": {},
   "outputs": [],
   "source": [
    "new_final1['days'] = new_final1['days'].apply(np.floor)"
   ]
  },
  {
   "cell_type": "code",
   "execution_count": 56,
   "id": "8b73eb22",
   "metadata": {},
   "outputs": [],
   "source": [
    "time=[]\n",
    "txt = '14-08-2021'\n",
    "for i in range(31):\n",
    "    time.append(txt)"
   ]
  },
  {
   "cell_type": "code",
   "execution_count": 57,
   "id": "04c650a4",
   "metadata": {},
   "outputs": [],
   "source": [
    "new_final1['date'] = time"
   ]
  },
  {
   "cell_type": "code",
   "execution_count": 58,
   "id": "02c65e2b",
   "metadata": {},
   "outputs": [],
   "source": [
    "new_final1['date'] = new_final1['date'].astype('datetime64[ns]')"
   ]
  },
  {
   "cell_type": "code",
   "execution_count": 59,
   "id": "368d473c",
   "metadata": {},
   "outputs": [],
   "source": [
    "new_final1['dater'] = new_final1['date'] + pd.to_timedelta(new_final1['days'], unit='t')"
   ]
  },
  {
   "cell_type": "code",
   "execution_count": 60,
   "id": "83dcfd41",
   "metadata": {},
   "outputs": [],
   "source": [
    "new_final1['dater'] = pd.to_datetime(new_final1['dater']).dt.date"
   ]
  },
  {
   "cell_type": "code",
   "execution_count": 61,
   "id": "85079507",
   "metadata": {},
   "outputs": [
    {
     "data": {
      "text/plain": [
       "0    2021-08-14\n",
       "1    2021-08-14\n",
       "2    2021-08-14\n",
       "3    2021-08-14\n",
       "4    2021-08-14\n",
       "5    2021-08-14\n",
       "6    2021-08-14\n",
       "7    2021-08-14\n",
       "8    2021-08-14\n",
       "9    2021-08-14\n",
       "10   2021-08-14\n",
       "11   2021-08-14\n",
       "12   2021-08-14\n",
       "13   2021-08-14\n",
       "14   2021-08-14\n",
       "15   2021-08-14\n",
       "16   2021-08-14\n",
       "17   2021-08-14\n",
       "18   2021-08-14\n",
       "19   2021-08-14\n",
       "20   2021-08-14\n",
       "21   2021-08-14\n",
       "22   2021-08-14\n",
       "23   2021-08-14\n",
       "24   2021-08-14\n",
       "25   2021-08-14\n",
       "26   2021-08-14\n",
       "27   2021-08-14\n",
       "28   2021-08-14\n",
       "29   2021-08-14\n",
       "30   2021-08-14\n",
       "Name: date, dtype: datetime64[ns]"
      ]
     },
     "execution_count": 61,
     "metadata": {},
     "output_type": "execute_result"
    }
   ],
   "source": [
    "new_final1.pop('date')"
   ]
  },
  {
   "cell_type": "code",
   "execution_count": 62,
   "id": "34383957",
   "metadata": {},
   "outputs": [
    {
     "data": {
      "text/plain": [
       "0     1121180.0\n",
       "1        9543.0\n",
       "2      230269.0\n",
       "3     1131114.0\n",
       "4        2101.0\n",
       "5      288574.0\n",
       "6      106154.0\n",
       "7         378.0\n",
       "8      512194.0\n",
       "9      230815.0\n",
       "10      24848.0\n",
       "11      99182.0\n",
       "12     434403.0\n",
       "13     663389.0\n",
       "14     215281.0\n",
       "15        107.0\n",
       "16     532495.0\n",
       "17     842177.0\n",
       "18      18755.0\n",
       "19      34880.0\n",
       "20       6726.0\n",
       "21      20133.0\n",
       "22     371482.0\n",
       "23       7965.0\n",
       "24     345517.0\n",
       "25     712705.0\n",
       "26        997.0\n",
       "27     853804.0\n",
       "28       5755.0\n",
       "29    2306215.0\n",
       "30      57146.0\n",
       "Name: days, dtype: float64"
      ]
     },
     "execution_count": 62,
     "metadata": {},
     "output_type": "execute_result"
    }
   ],
   "source": [
    "new_final1.pop('days')"
   ]
  },
  {
   "cell_type": "code",
   "execution_count": 63,
   "id": "bbfc4761",
   "metadata": {},
   "outputs": [],
   "source": [
    "theStates = data1[['State_Code','State']].copy()"
   ]
  },
  {
   "cell_type": "code",
   "execution_count": 64,
   "id": "2cfcebb5",
   "metadata": {},
   "outputs": [],
   "source": [
    "theStates.drop_duplicates(subset =['State_Code','State'],keep = 'first', inplace = True)"
   ]
  },
  {
   "cell_type": "code",
   "execution_count": 65,
   "id": "44b5fdd8",
   "metadata": {},
   "outputs": [],
   "source": [
    "theStates.reset_index(inplace = True)"
   ]
  },
  {
   "cell_type": "code",
   "execution_count": 66,
   "id": "5b449ecf",
   "metadata": {},
   "outputs": [
    {
     "data": {
      "text/plain": [
       "0       3\n",
       "1       8\n",
       "2      33\n",
       "3      70\n",
       "4      85\n",
       "5     114\n",
       "6     141\n",
       "7     155\n",
       "8     145\n",
       "9     157\n",
       "10    198\n",
       "11    230\n",
       "12    221\n",
       "13    273\n",
       "14    252\n",
       "15    280\n",
       "16    321\n",
       "17    324\n",
       "18    325\n",
       "19    394\n",
       "20    438\n",
       "21    424\n",
       "22    336\n",
       "23    442\n",
       "24    454\n",
       "25    468\n",
       "26    507\n",
       "27    492\n",
       "28    539\n",
       "29    549\n",
       "30    601\n",
       "31    563\n",
       "32    635\n",
       "33    712\n",
       "34    722\n",
       "35    727\n",
       "Name: index, dtype: int64"
      ]
     },
     "execution_count": 66,
     "metadata": {},
     "output_type": "execute_result"
    }
   ],
   "source": [
    "theStates.pop('index')"
   ]
  },
  {
   "cell_type": "code",
   "execution_count": 67,
   "id": "084c7444",
   "metadata": {},
   "outputs": [],
   "source": [
    "theStates['State'] = theStates['State'].str.lower()"
   ]
  },
  {
   "cell_type": "code",
   "execution_count": 68,
   "id": "04aac74b",
   "metadata": {},
   "outputs": [],
   "source": [
    "final_state = pd.merge(new_final1, theStates, how ='inner', on =['State'])"
   ]
  },
  {
   "cell_type": "code",
   "execution_count": 69,
   "id": "9bfb1c59",
   "metadata": {},
   "outputs": [],
   "source": [
    "final_state = final_state[['State_Code','populationleft','rateofvaccination','dater']]"
   ]
  },
  {
   "cell_type": "code",
   "execution_count": 70,
   "id": "31f8c964",
   "metadata": {},
   "outputs": [],
   "source": [
    "final_state.rename(columns = {'State_Code':'stateid','dater':'date'}, inplace = True)"
   ]
  },
  {
   "cell_type": "code",
   "execution_count": 71,
   "id": "9013648f",
   "metadata": {},
   "outputs": [],
   "source": [
    "final_state.to_csv('complete-vaccination.csv')"
   ]
  }
 ],
 "metadata": {
  "kernelspec": {
   "display_name": "Python 3 (ipykernel)",
   "language": "python",
   "name": "python3"
  },
  "language_info": {
   "codemirror_mode": {
    "name": "ipython",
    "version": 3
   },
   "file_extension": ".py",
   "mimetype": "text/x-python",
   "name": "python",
   "nbconvert_exporter": "python",
   "pygments_lexer": "ipython3",
   "version": "3.9.6"
  }
 },
 "nbformat": 4,
 "nbformat_minor": 5
}
