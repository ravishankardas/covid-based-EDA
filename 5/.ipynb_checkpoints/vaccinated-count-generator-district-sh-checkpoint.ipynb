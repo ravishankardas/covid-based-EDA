{
 "cells": [
  {
   "cell_type": "code",
   "execution_count": 1,
   "id": "f0c21382",
   "metadata": {},
   "outputs": [],
   "source": [
    "import pandas as pd\n",
    "import numpy as np\n",
    "import json"
   ]
  },
  {
   "cell_type": "code",
   "execution_count": 2,
   "id": "aac0f231",
   "metadata": {},
   "outputs": [],
   "source": [
    "data = pd.read_csv('cowin_vaccine_data_districtwise.csv',low_memory = False)"
   ]
  },
  {
   "cell_type": "code",
   "execution_count": 3,
   "id": "312a1e93",
   "metadata": {},
   "outputs": [],
   "source": [
    "fa = open('neighbor-districts-modified.json')\n",
    "key = json.load(fa)"
   ]
  },
  {
   "cell_type": "code",
   "execution_count": 4,
   "id": "f3c41cd0",
   "metadata": {},
   "outputs": [],
   "source": [
    "dist = []\n",
    "for i in key.keys():\n",
    "    dist.append(i)"
   ]
  },
  {
   "cell_type": "code",
   "execution_count": 5,
   "id": "0b6a0c4e",
   "metadata": {},
   "outputs": [],
   "source": [
    "ahem = pd.DataFrame(dist)"
   ]
  },
  {
   "cell_type": "code",
   "execution_count": 6,
   "id": "0d0c742e",
   "metadata": {},
   "outputs": [],
   "source": [
    "ahem.rename(columns = {0:'District_Key'},inplace =True)"
   ]
  },
  {
   "cell_type": "code",
   "execution_count": 7,
   "id": "a0a9f9b3",
   "metadata": {},
   "outputs": [
    {
     "data": {
      "text/plain": [
       "pandas.core.frame.DataFrame"
      ]
     },
     "execution_count": 7,
     "metadata": {},
     "output_type": "execute_result"
    }
   ],
   "source": [
    "type(ahem)"
   ]
  },
  {
   "cell_type": "code",
   "execution_count": 8,
   "id": "1a773de8",
   "metadata": {},
   "outputs": [],
   "source": [
    "data.columns = data.iloc[0]\n",
    "data1 = data.iloc[1:]"
   ]
  },
  {
   "cell_type": "code",
   "execution_count": 9,
   "id": "6d45c5af",
   "metadata": {},
   "outputs": [
    {
     "data": {
      "text/plain": [
       "1        1\n",
       "2        2\n",
       "3        3\n",
       "4        4\n",
       "5        5\n",
       "      ... \n",
       "750    751\n",
       "751    752\n",
       "752    753\n",
       "753    754\n",
       "754    755\n",
       "Name: S No, Length: 754, dtype: object"
      ]
     },
     "execution_count": 9,
     "metadata": {},
     "output_type": "execute_result"
    }
   ],
   "source": [
    "data1.pop('S No')"
   ]
  },
  {
   "cell_type": "code",
   "execution_count": 10,
   "id": "70860dbb",
   "metadata": {},
   "outputs": [],
   "source": [
    "first = data1[['District_Key','First Dose Administered']].copy()\n",
    "second =data1[['District_Key','Second Dose Administered']].copy()"
   ]
  },
  {
   "cell_type": "code",
   "execution_count": 11,
   "id": "143c7db5",
   "metadata": {},
   "outputs": [],
   "source": [
    "int_df_first = pd.merge(ahem, first, how ='inner', on =['District_Key'])\n",
    "int_df_second = pd.merge(ahem, second, how ='inner', on =['District_Key'])"
   ]
  },
  {
   "cell_type": "code",
   "execution_count": 12,
   "id": "9f22117b",
   "metadata": {},
   "outputs": [],
   "source": [
    "cols=pd.Series(list(int_df_first.columns))"
   ]
  },
  {
   "cell_type": "code",
   "execution_count": 13,
   "id": "0477ab98",
   "metadata": {},
   "outputs": [],
   "source": [
    "for dup in cols[cols.duplicated()].unique(): \n",
    "    cols[cols[cols == dup].index.values.tolist()] = [dup + '.' + str(i) if i != 0 else dup for i in range(sum(cols == dup))]"
   ]
  },
  {
   "cell_type": "code",
   "execution_count": 14,
   "id": "29713770",
   "metadata": {},
   "outputs": [],
   "source": [
    "int_df_first.columns=cols"
   ]
  },
  {
   "cell_type": "code",
   "execution_count": 15,
   "id": "4cc9a454",
   "metadata": {},
   "outputs": [],
   "source": [
    "first_df = int_df_first.copy(deep=True)"
   ]
  },
  {
   "cell_type": "code",
   "execution_count": 16,
   "id": "3db346c9",
   "metadata": {},
   "outputs": [],
   "source": [
    "colsa=pd.Series(list(int_df_second.columns))"
   ]
  },
  {
   "cell_type": "code",
   "execution_count": 17,
   "id": "c831caad",
   "metadata": {
    "scrolled": true
   },
   "outputs": [],
   "source": [
    "for dup in colsa[colsa.duplicated()].unique(): \n",
    "    colsa[colsa[colsa == dup].index.values.tolist()] = [dup + '.' + str(i) if i != 0 else dup for i in range(sum(colsa == dup))]"
   ]
  },
  {
   "cell_type": "code",
   "execution_count": 18,
   "id": "f5c2e937",
   "metadata": {},
   "outputs": [],
   "source": [
    "int_df_second.columns=colsa"
   ]
  },
  {
   "cell_type": "code",
   "execution_count": 19,
   "id": "7c861c40",
   "metadata": {},
   "outputs": [],
   "source": [
    "second_df = int_df_second.copy(deep=True)"
   ]
  },
  {
   "cell_type": "code",
   "execution_count": 20,
   "id": "09933fcf",
   "metadata": {},
   "outputs": [],
   "source": [
    "# because First Dose Administered.210 is total first dose for 14 AUG because the data is commulative\n",
    "int_df_first['dose 1'] = int_df_first['First Dose Administered.210'].to_list()"
   ]
  },
  {
   "cell_type": "code",
   "execution_count": 21,
   "id": "69cf7473",
   "metadata": {},
   "outputs": [],
   "source": [
    "# because Second Dose Administered.210 is total first dose for 14 AUG  because the data is commulative\n",
    "int_df_second['dose 2'] = int_df_second['Second Dose Administered.210'].to_list()"
   ]
  },
  {
   "cell_type": "code",
   "execution_count": 22,
   "id": "9485f07a",
   "metadata": {},
   "outputs": [],
   "source": [
    "new_first = int_df_first[['District_Key','dose 1']].copy()"
   ]
  },
  {
   "cell_type": "code",
   "execution_count": 23,
   "id": "62744588",
   "metadata": {},
   "outputs": [],
   "source": [
    "new_second = int_df_second[['District_Key','dose 2']].copy()"
   ]
  },
  {
   "cell_type": "code",
   "execution_count": 24,
   "id": "2d7e1418",
   "metadata": {},
   "outputs": [],
   "source": [
    "f = pd.merge(new_first, new_second, how ='inner', on =['District_Key'])"
   ]
  },
  {
   "cell_type": "code",
   "execution_count": 25,
   "id": "fbd66a79",
   "metadata": {},
   "outputs": [],
   "source": [
    "f=f.drop_duplicates(subset=['District_Key'], keep='first')"
   ]
  },
  {
   "cell_type": "code",
   "execution_count": 26,
   "id": "4767a718",
   "metadata": {},
   "outputs": [],
   "source": [
    "o_arr = []\n",
    "txt = 'overall'\n",
    "for i in range(722):\n",
    "    o_arr.append(txt)"
   ]
  },
  {
   "cell_type": "code",
   "execution_count": 27,
   "id": "93a17a88",
   "metadata": {},
   "outputs": [],
   "source": [
    "f['timeid'] = o_arr"
   ]
  },
  {
   "cell_type": "code",
   "execution_count": 28,
   "id": "c90be5cd",
   "metadata": {},
   "outputs": [],
   "source": [
    "f.rename(columns = {'District_Key':'districtid'},inplace =True)"
   ]
  },
  {
   "cell_type": "code",
   "execution_count": 29,
   "id": "177d144c",
   "metadata": {},
   "outputs": [],
   "source": [
    "f = f[['districtid','timeid','dose 1','dose 2']]"
   ]
  },
  {
   "cell_type": "code",
   "execution_count": 30,
   "id": "f95faedf",
   "metadata": {},
   "outputs": [],
   "source": [
    "f.sort_values(\"districtid\", axis = 0, ascending = True,\n",
    "                 inplace = True, na_position ='last')"
   ]
  },
  {
   "cell_type": "code",
   "execution_count": 31,
   "id": "2b88783c",
   "metadata": {},
   "outputs": [],
   "source": [
    "f.reset_index(inplace = True)"
   ]
  },
  {
   "cell_type": "code",
   "execution_count": 32,
   "id": "271699a5",
   "metadata": {},
   "outputs": [
    {
     "data": {
      "text/plain": [
       "0      608\n",
       "1      184\n",
       "2      406\n",
       "3       73\n",
       "4      180\n",
       "      ... \n",
       "717    233\n",
       "718    576\n",
       "719    462\n",
       "720    547\n",
       "721    755\n",
       "Name: index, Length: 722, dtype: int64"
      ]
     },
     "execution_count": 32,
     "metadata": {},
     "output_type": "execute_result"
    }
   ],
   "source": [
    "f.pop('index')"
   ]
  },
  {
   "cell_type": "code",
   "execution_count": 33,
   "id": "74efd947",
   "metadata": {},
   "outputs": [],
   "source": [
    "ahemx = ahem.copy(deep=True)"
   ]
  },
  {
   "cell_type": "code",
   "execution_count": 34,
   "id": "44c9734c",
   "metadata": {},
   "outputs": [],
   "source": [
    "ahemx.rename(columns = {'District_Key':'districtid'},inplace =True)"
   ]
  },
  {
   "cell_type": "code",
   "execution_count": 35,
   "id": "773e886a",
   "metadata": {},
   "outputs": [],
   "source": [
    "dmx = pd.merge(f, ahemx, how ='inner', on =['districtid'])"
   ]
  },
  {
   "cell_type": "code",
   "execution_count": 36,
   "id": "e5add059",
   "metadata": {},
   "outputs": [],
   "source": [
    "dmx.to_csv('vaccinated-count-districts-overall.csv')"
   ]
  },
  {
   "cell_type": "code",
   "execution_count": 37,
   "id": "df4cb376",
   "metadata": {},
   "outputs": [
    {
     "data": {
      "text/plain": [
       "0       188736\n",
       "1       295658\n",
       "2       238711\n",
       "3       226470\n",
       "4       615120\n",
       "        ...   \n",
       "742    1433962\n",
       "743     318253\n",
       "744     255115\n",
       "745     383729\n",
       "746    1281779\n",
       "Name: dose 1, Length: 747, dtype: object"
      ]
     },
     "execution_count": 37,
     "metadata": {},
     "output_type": "execute_result"
    }
   ],
   "source": [
    "int_df_first.pop('dose 1')"
   ]
  },
  {
   "cell_type": "code",
   "execution_count": 38,
   "id": "aa79579a",
   "metadata": {},
   "outputs": [
    {
     "data": {
      "text/plain": [
       "0       58696\n",
       "1       87375\n",
       "2       86546\n",
       "3       56560\n",
       "4      203038\n",
       "        ...  \n",
       "742    360371\n",
       "743     64508\n",
       "744     48494\n",
       "745     78267\n",
       "746    700029\n",
       "Name: dose 2, Length: 747, dtype: object"
      ]
     },
     "execution_count": 38,
     "metadata": {},
     "output_type": "execute_result"
    }
   ],
   "source": [
    "int_df_second.pop('dose 2')"
   ]
  },
  {
   "cell_type": "code",
   "execution_count": 39,
   "id": "ec5b9e75",
   "metadata": {},
   "outputs": [],
   "source": [
    "int_df_first = int_df_first.dropna()"
   ]
  },
  {
   "cell_type": "code",
   "execution_count": 40,
   "id": "d7b328d8",
   "metadata": {},
   "outputs": [],
   "source": [
    "int_df_second = int_df_second.dropna()"
   ]
  },
  {
   "cell_type": "code",
   "execution_count": 41,
   "id": "70368605",
   "metadata": {},
   "outputs": [],
   "source": [
    "d = int_df_first['District_Key'].copy()"
   ]
  },
  {
   "cell_type": "code",
   "execution_count": 42,
   "id": "0604421e",
   "metadata": {},
   "outputs": [],
   "source": [
    "text1 = 'First Dose Administered'\n",
    "text2 = 'Second Dose Administered'\n",
    "l_col1 =list(int_df_first.columns)\n",
    "l_col2 =list(int_df_second.columns)\n",
    "for i in range(211,229):\n",
    "    new1 = text1 + '.' + str(i)\n",
    "    new2 = text2 + '.' + str(i)\n",
    "    l_col1.remove(new1)\n",
    "    l_col2.remove(new2)"
   ]
  },
  {
   "cell_type": "code",
   "execution_count": 43,
   "id": "2ec3444a",
   "metadata": {},
   "outputs": [],
   "source": [
    "df1 = int_df_first[l_col1]"
   ]
  },
  {
   "cell_type": "code",
   "execution_count": 44,
   "id": "fff1229a",
   "metadata": {},
   "outputs": [],
   "source": [
    "df2 = int_df_second[l_col2]"
   ]
  },
  {
   "cell_type": "code",
   "execution_count": 45,
   "id": "16b6d310",
   "metadata": {},
   "outputs": [],
   "source": [
    "change_list = []\n",
    "change_list.append('District_Key')\n",
    "for i in range(211):\n",
    "    change_list.append(i)"
   ]
  },
  {
   "cell_type": "code",
   "execution_count": 46,
   "id": "1b033721",
   "metadata": {},
   "outputs": [],
   "source": [
    "df1.columns = change_list"
   ]
  },
  {
   "cell_type": "code",
   "execution_count": 47,
   "id": "52924436",
   "metadata": {},
   "outputs": [],
   "source": [
    "df2.columns = change_list"
   ]
  },
  {
   "cell_type": "code",
   "execution_count": 48,
   "id": "906e0e68",
   "metadata": {},
   "outputs": [],
   "source": [
    "dist = df1.pop('District_Key')"
   ]
  },
  {
   "cell_type": "code",
   "execution_count": 49,
   "id": "52e05e27",
   "metadata": {},
   "outputs": [
    {
     "data": {
      "text/plain": [
       "0                   TR_Khowai\n",
       "1                    HP_Kullu\n",
       "2                  UT_Chamoli\n",
       "3                OR_Kandhamal\n",
       "4                    MH_Latur\n",
       "                ...          \n",
       "742    UP_Gautam Buddha Nagar\n",
       "743               TN_Dindigul\n",
       "744               TN_Dindigul\n",
       "745                JH_Deoghar\n",
       "746               MH_Kolhapur\n",
       "Name: District_Key, Length: 742, dtype: object"
      ]
     },
     "execution_count": 49,
     "metadata": {},
     "output_type": "execute_result"
    }
   ],
   "source": [
    "df2.pop('District_Key')"
   ]
  },
  {
   "cell_type": "code",
   "execution_count": 50,
   "id": "687d7ec0",
   "metadata": {
    "scrolled": true
   },
   "outputs": [],
   "source": [
    "df1 = df1.dropna()"
   ]
  },
  {
   "cell_type": "code",
   "execution_count": 51,
   "id": "5f4705ca",
   "metadata": {},
   "outputs": [],
   "source": [
    "df2 = df1.dropna()"
   ]
  },
  {
   "cell_type": "code",
   "execution_count": 52,
   "id": "be630631",
   "metadata": {},
   "outputs": [],
   "source": [
    "stu_arr=[]\n",
    "the = df1.values.tolist()\n",
    "for i in range(len(the)):\n",
    "    temp=[]\n",
    "    s=0\n",
    "    e=len(the[i])\n",
    "    for j in range(len(the[i])):\n",
    "        if s+29<=e:\n",
    "            s+=29\n",
    "            val = int(the[i][s])-int(the[i][s-29])\n",
    "            temp.append(val)\n",
    "    stu_arr.append(temp)   "
   ]
  },
  {
   "cell_type": "code",
   "execution_count": 53,
   "id": "f05e2503",
   "metadata": {},
   "outputs": [],
   "source": [
    "first_dose = pd.DataFrame(stu_arr)"
   ]
  },
  {
   "cell_type": "code",
   "execution_count": 54,
   "id": "9ebf88df",
   "metadata": {},
   "outputs": [],
   "source": [
    "first_dose['dose1'] = first_dose.mean(axis=1)"
   ]
  },
  {
   "cell_type": "code",
   "execution_count": 55,
   "id": "b180e067",
   "metadata": {},
   "outputs": [],
   "source": [
    "first_dose['dose1'] = first_dose['dose1'].apply(np.ceil)"
   ]
  },
  {
   "cell_type": "code",
   "execution_count": 56,
   "id": "f7401ccf",
   "metadata": {},
   "outputs": [],
   "source": [
    "stu_arra=[]\n",
    "thea = df2.values.tolist()\n",
    "for i in range(len(thea)):\n",
    "    tempa=[]\n",
    "    sa=0\n",
    "    ea=len(thea[i])\n",
    "    for j in range(len(thea[i])):\n",
    "        if sa+29<=ea:\n",
    "            sa+=29\n",
    "            vala = int(thea[i][s])-int(thea[i][s-29])\n",
    "            tempa.append(vala)\n",
    "    stu_arra.append(tempa)  "
   ]
  },
  {
   "cell_type": "code",
   "execution_count": 57,
   "id": "31022d6e",
   "metadata": {},
   "outputs": [],
   "source": [
    "second_dose = pd.DataFrame(stu_arra)"
   ]
  },
  {
   "cell_type": "code",
   "execution_count": 58,
   "id": "ff4342d4",
   "metadata": {},
   "outputs": [],
   "source": [
    "second_dose['dose2'] = second_dose.mean(axis=1)"
   ]
  },
  {
   "cell_type": "code",
   "execution_count": 59,
   "id": "31217463",
   "metadata": {},
   "outputs": [],
   "source": [
    "second_dose['dose2'] = second_dose['dose2'].apply(np.ceil)"
   ]
  },
  {
   "cell_type": "code",
   "execution_count": 60,
   "id": "d368669c",
   "metadata": {},
   "outputs": [],
   "source": [
    "f_d1 = first_dose[['dose1']].copy()"
   ]
  },
  {
   "cell_type": "code",
   "execution_count": 61,
   "id": "97f2c20b",
   "metadata": {},
   "outputs": [],
   "source": [
    "f_d2 = second_dose[['dose2']].copy()"
   ]
  },
  {
   "cell_type": "code",
   "execution_count": 62,
   "id": "8b5b761a",
   "metadata": {},
   "outputs": [],
   "source": [
    "final = pd.concat([f_d1, f_d2], axis=1)"
   ]
  },
  {
   "cell_type": "code",
   "execution_count": 63,
   "id": "751cba4e",
   "metadata": {},
   "outputs": [],
   "source": [
    "dist = pd.DataFrame(d)"
   ]
  },
  {
   "cell_type": "code",
   "execution_count": 64,
   "id": "79b5c6ca",
   "metadata": {},
   "outputs": [],
   "source": [
    "dist.reset_index(inplace = True)"
   ]
  },
  {
   "cell_type": "code",
   "execution_count": 65,
   "id": "9f1dcc3a",
   "metadata": {},
   "outputs": [
    {
     "data": {
      "text/plain": [
       "0        0\n",
       "1        1\n",
       "2        2\n",
       "3        3\n",
       "4        4\n",
       "      ... \n",
       "737    742\n",
       "738    743\n",
       "739    744\n",
       "740    745\n",
       "741    746\n",
       "Name: index, Length: 742, dtype: int64"
      ]
     },
     "execution_count": 65,
     "metadata": {},
     "output_type": "execute_result"
    }
   ],
   "source": [
    "dist.pop('index')"
   ]
  },
  {
   "cell_type": "code",
   "execution_count": 66,
   "id": "80c8ba2f",
   "metadata": {},
   "outputs": [],
   "source": [
    "ok = pd.concat([dist, final], axis=1)"
   ]
  },
  {
   "cell_type": "code",
   "execution_count": 67,
   "id": "cc5e702c",
   "metadata": {},
   "outputs": [],
   "source": [
    "sen = 'month'\n",
    "vec = []\n",
    "for i in range(742):\n",
    "    vec.append(sen)"
   ]
  },
  {
   "cell_type": "code",
   "execution_count": 68,
   "id": "bb0dcc27",
   "metadata": {},
   "outputs": [],
   "source": [
    "ok['timeid'] = vec"
   ]
  },
  {
   "cell_type": "code",
   "execution_count": 69,
   "id": "c24b5ff6",
   "metadata": {},
   "outputs": [],
   "source": [
    "ok.rename(columns = {'District_Key':'districtid'},inplace =True)"
   ]
  },
  {
   "cell_type": "code",
   "execution_count": 70,
   "id": "d0ee3b87",
   "metadata": {},
   "outputs": [],
   "source": [
    "ok = ok[['districtid','timeid','dose1','dose2']]"
   ]
  },
  {
   "cell_type": "code",
   "execution_count": 71,
   "id": "61fed99e",
   "metadata": {},
   "outputs": [],
   "source": [
    "ok.sort_values(\"districtid\", axis = 0, ascending = True,inplace = True, na_position ='last')"
   ]
  },
  {
   "cell_type": "code",
   "execution_count": 72,
   "id": "bb504dbe",
   "metadata": {},
   "outputs": [],
   "source": [
    "dmy = pd.merge(ok, ahemx, how ='inner', on =['districtid'])"
   ]
  },
  {
   "cell_type": "code",
   "execution_count": 73,
   "id": "5fb47be7",
   "metadata": {},
   "outputs": [],
   "source": [
    "dmy=dmy.drop_duplicates(subset=['districtid'], keep='first')"
   ]
  },
  {
   "cell_type": "code",
   "execution_count": 74,
   "id": "85e1a048",
   "metadata": {},
   "outputs": [],
   "source": [
    "dmy.to_csv('vaccinated-count-district-monthly.csv')"
   ]
  },
  {
   "cell_type": "code",
   "execution_count": 75,
   "id": "6eb525e0",
   "metadata": {},
   "outputs": [],
   "source": [
    "copy_a = int_df_first.copy(deep=True)\n",
    "copy_b = int_df_second.copy(deep=True)"
   ]
  },
  {
   "cell_type": "code",
   "execution_count": 76,
   "id": "ed0b8b1d",
   "metadata": {},
   "outputs": [],
   "source": [
    "dose_col1 = list(copy_a.columns)\n",
    "dose_col2 = list(copy_b.columns)\n",
    "t1 = 'First Dose Administered'\n",
    "t2 = 'Second Dose Administered'\n",
    "for i in range(211,229):\n",
    "    n1 = t1 + '.' + str(i)\n",
    "    n2 = t2 + '.' + str(i)\n",
    "    dose_col1.remove(n1)\n",
    "    dose_col2.remove(n2)"
   ]
  },
  {
   "cell_type": "code",
   "execution_count": 77,
   "id": "134e5e3f",
   "metadata": {},
   "outputs": [],
   "source": [
    "over_df1 = copy_a[dose_col1].copy()\n",
    "over_df2 = copy_b[dose_col2].copy()"
   ]
  },
  {
   "cell_type": "code",
   "execution_count": 78,
   "id": "15542149",
   "metadata": {},
   "outputs": [],
   "source": [
    "c_l = []\n",
    "c_l.append('District_Key')\n",
    "for i in range(211):\n",
    "    c_l.append(i)"
   ]
  },
  {
   "cell_type": "code",
   "execution_count": 79,
   "id": "a51be4f7",
   "metadata": {},
   "outputs": [],
   "source": [
    "over_df1.columns = c_l\n",
    "over_df2.columns = c_l"
   ]
  },
  {
   "cell_type": "code",
   "execution_count": 80,
   "id": "2b00d04a",
   "metadata": {},
   "outputs": [
    {
     "data": {
      "text/plain": [
       "0                   TR_Khowai\n",
       "1                    HP_Kullu\n",
       "2                  UT_Chamoli\n",
       "3                OR_Kandhamal\n",
       "4                    MH_Latur\n",
       "                ...          \n",
       "742    UP_Gautam Buddha Nagar\n",
       "743               TN_Dindigul\n",
       "744               TN_Dindigul\n",
       "745                JH_Deoghar\n",
       "746               MH_Kolhapur\n",
       "Name: District_Key, Length: 742, dtype: object"
      ]
     },
     "execution_count": 80,
     "metadata": {},
     "output_type": "execute_result"
    }
   ],
   "source": [
    "over_df1.pop('District_Key')\n",
    "over_df2.pop('District_Key')"
   ]
  },
  {
   "cell_type": "code",
   "execution_count": 81,
   "id": "1745a1c3",
   "metadata": {},
   "outputs": [],
   "source": [
    "over_df1 = over_df1.dropna()\n",
    "over_df2 = over_df2.dropna()"
   ]
  },
  {
   "cell_type": "code",
   "execution_count": 82,
   "id": "ee252b19",
   "metadata": {},
   "outputs": [],
   "source": [
    "sup=[]\n",
    "the = over_df1.values.tolist()\n",
    "for i in range(len(the)):\n",
    "    temp3=[]\n",
    "    s3=0\n",
    "    e3=len(the[i])\n",
    "    for j in range(len(the[i])):\n",
    "        if s3+7<=e3:\n",
    "            s3+=7\n",
    "            val3 = int(the[i][s3])-int(the[i][s3-7])\n",
    "            temp3.append(val3)\n",
    "    sup.append(temp3)  "
   ]
  },
  {
   "cell_type": "code",
   "execution_count": 83,
   "id": "cb55817d",
   "metadata": {},
   "outputs": [],
   "source": [
    "f_d = pd.DataFrame(sup)"
   ]
  },
  {
   "cell_type": "code",
   "execution_count": 84,
   "id": "872b693b",
   "metadata": {},
   "outputs": [],
   "source": [
    "f_d['dose1'] = f_d.mean(axis=1)"
   ]
  },
  {
   "cell_type": "code",
   "execution_count": 85,
   "id": "cfd9e90a",
   "metadata": {},
   "outputs": [],
   "source": [
    "f_d['dose1'] = f_d['dose1'].apply(np.floor)"
   ]
  },
  {
   "cell_type": "code",
   "execution_count": 86,
   "id": "d991eb67",
   "metadata": {},
   "outputs": [],
   "source": [
    "sup1=[]\n",
    "the = over_df2.values.tolist()\n",
    "for i in range(len(the)):\n",
    "    temp4=[]\n",
    "    s4=0\n",
    "    e4=len(the[i])\n",
    "    for j in range(len(the[i])):\n",
    "        if s4+7<=e4:\n",
    "            s4+=7\n",
    "            val4 = int(the[i][s4])-int(the[i][s4-7])\n",
    "            temp4.append(val4)\n",
    "    sup1.append(temp4) "
   ]
  },
  {
   "cell_type": "code",
   "execution_count": 87,
   "id": "41393259",
   "metadata": {},
   "outputs": [],
   "source": [
    "s_d = pd.DataFrame(sup1)"
   ]
  },
  {
   "cell_type": "code",
   "execution_count": 88,
   "id": "1cb1d841",
   "metadata": {},
   "outputs": [],
   "source": [
    "s_d['dose2'] = s_d.mean(axis=1)"
   ]
  },
  {
   "cell_type": "code",
   "execution_count": 89,
   "id": "bc6b037b",
   "metadata": {},
   "outputs": [],
   "source": [
    "s_d['dose2'] = s_d['dose2'].apply(np.ceil)"
   ]
  },
  {
   "cell_type": "code",
   "execution_count": 90,
   "id": "5ae8fbca",
   "metadata": {},
   "outputs": [],
   "source": [
    "sha = f_d['dose1'].copy()\n",
    "shb = s_d['dose2'].copy()"
   ]
  },
  {
   "cell_type": "code",
   "execution_count": 91,
   "id": "c26ee6db",
   "metadata": {},
   "outputs": [],
   "source": [
    "jab = pd.concat([sha, shb], axis=1)"
   ]
  },
  {
   "cell_type": "code",
   "execution_count": 92,
   "id": "c1147b4f",
   "metadata": {},
   "outputs": [],
   "source": [
    "snow = pd.concat([dist, jab], axis=1)"
   ]
  },
  {
   "cell_type": "code",
   "execution_count": 93,
   "id": "9a0d2f92",
   "metadata": {},
   "outputs": [],
   "source": [
    "sore = 'week'\n",
    "rain = []\n",
    "for i in range(742):\n",
    "    rain.append(sore)"
   ]
  },
  {
   "cell_type": "code",
   "execution_count": 94,
   "id": "f3dd7755",
   "metadata": {},
   "outputs": [],
   "source": [
    "snow['timeid'] = rain"
   ]
  },
  {
   "cell_type": "code",
   "execution_count": 95,
   "id": "ee756b56",
   "metadata": {},
   "outputs": [],
   "source": [
    "snow.rename(columns = {'District_Key':'districtid'},inplace =True)"
   ]
  },
  {
   "cell_type": "code",
   "execution_count": 96,
   "id": "4283321a",
   "metadata": {},
   "outputs": [],
   "source": [
    "snow = snow[['districtid','timeid','dose1','dose2']]"
   ]
  },
  {
   "cell_type": "code",
   "execution_count": 97,
   "id": "7d657838",
   "metadata": {},
   "outputs": [],
   "source": [
    "snow.to_csv('vaccinated-count-district-weekly.csv')"
   ]
  },
  {
   "cell_type": "code",
   "execution_count": 98,
   "id": "2c8b92ca",
   "metadata": {},
   "outputs": [],
   "source": [
    "snow.sort_values(\"districtid\", axis = 0, ascending = True,inplace = True, na_position ='last')"
   ]
  },
  {
   "cell_type": "code",
   "execution_count": 99,
   "id": "264bafb1",
   "metadata": {},
   "outputs": [],
   "source": [
    "snow.reset_index(inplace = True)"
   ]
  },
  {
   "cell_type": "code",
   "execution_count": 100,
   "id": "0191a65c",
   "metadata": {},
   "outputs": [
    {
     "data": {
      "text/plain": [
       "0      564\n",
       "1      170\n",
       "2      379\n",
       "3       70\n",
       "4      166\n",
       "      ... \n",
       "737    536\n",
       "738    537\n",
       "739    429\n",
       "740    511\n",
       "741    510\n",
       "Name: index, Length: 742, dtype: int64"
      ]
     },
     "execution_count": 100,
     "metadata": {},
     "output_type": "execute_result"
    }
   ],
   "source": [
    "snow.pop('index')"
   ]
  },
  {
   "cell_type": "code",
   "execution_count": 101,
   "id": "10cf55e3",
   "metadata": {},
   "outputs": [],
   "source": [
    "snow=snow.drop_duplicates(subset=['districtid'], keep='first')"
   ]
  },
  {
   "cell_type": "code",
   "execution_count": 102,
   "id": "42a3b980",
   "metadata": {},
   "outputs": [],
   "source": [
    "ahemnew = ahem.copy(deep = True)"
   ]
  },
  {
   "cell_type": "code",
   "execution_count": 103,
   "id": "30a09b19",
   "metadata": {},
   "outputs": [],
   "source": [
    "ahemnew.rename(columns = {'District_Key':'districtid'},inplace =True)"
   ]
  },
  {
   "cell_type": "code",
   "execution_count": 104,
   "id": "71d02707",
   "metadata": {},
   "outputs": [],
   "source": [
    "dm = pd.merge(snow, ahemnew, how ='inner', on =['districtid'])"
   ]
  },
  {
   "cell_type": "code",
   "execution_count": 105,
   "id": "3c42ef85",
   "metadata": {},
   "outputs": [],
   "source": [
    "dm.to_csv('vaccinated-count-district-weekly.csv')"
   ]
  }
 ],
 "metadata": {
  "kernelspec": {
   "display_name": "Python 3 (ipykernel)",
   "language": "python",
   "name": "python3"
  },
  "language_info": {
   "codemirror_mode": {
    "name": "ipython",
    "version": 3
   },
   "file_extension": ".py",
   "mimetype": "text/x-python",
   "name": "python",
   "nbconvert_exporter": "python",
   "pygments_lexer": "ipython3",
   "version": "3.9.6"
  }
 },
 "nbformat": 4,
 "nbformat_minor": 5
}
