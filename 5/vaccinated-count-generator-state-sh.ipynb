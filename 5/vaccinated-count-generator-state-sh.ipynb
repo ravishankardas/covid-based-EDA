{
 "cells": [
  {
   "cell_type": "code",
   "execution_count": 1,
   "id": "b263ac2e",
   "metadata": {},
   "outputs": [],
   "source": [
    "import pandas as pd\n",
    "import numpy as np"
   ]
  },
  {
   "cell_type": "code",
   "execution_count": 2,
   "id": "3622d9d4",
   "metadata": {},
   "outputs": [],
   "source": [
    "data = pd.read_csv('cowin_vaccine_data_districtwise.csv',low_memory=False)"
   ]
  },
  {
   "cell_type": "code",
   "execution_count": 3,
   "id": "df831fc3",
   "metadata": {},
   "outputs": [],
   "source": [
    "data = data.rename(columns=data.iloc[0])"
   ]
  },
  {
   "cell_type": "code",
   "execution_count": 4,
   "id": "7ec6e962",
   "metadata": {},
   "outputs": [],
   "source": [
    "data = data.drop('Sessions',axis=1)"
   ]
  },
  {
   "cell_type": "code",
   "execution_count": 5,
   "id": "22d842b9",
   "metadata": {},
   "outputs": [],
   "source": [
    "data = data.drop(['S No','District_Key','Cowin Key'],axis=1)"
   ]
  },
  {
   "cell_type": "code",
   "execution_count": 6,
   "id": "2d0226c4",
   "metadata": {},
   "outputs": [],
   "source": [
    "data1 = data[['State_Code','State','First Dose Administered','Second Dose Administered']].copy()"
   ]
  },
  {
   "cell_type": "code",
   "execution_count": 7,
   "id": "4b3882c6",
   "metadata": {},
   "outputs": [],
   "source": [
    "data1 = data1.iloc[1:,:]"
   ]
  },
  {
   "cell_type": "code",
   "execution_count": 8,
   "id": "df371686",
   "metadata": {},
   "outputs": [],
   "source": [
    "cols = []\n",
    "count = 1\n",
    "for column in data1.columns:\n",
    "    if column == 'First Dose Administered':\n",
    "        cols.append(f'First Dose Administered{count}')\n",
    "        count+=1\n",
    "        continue\n",
    "    cols.append(column)\n",
    "data1.columns = cols"
   ]
  },
  {
   "cell_type": "code",
   "execution_count": 9,
   "id": "0647b03f",
   "metadata": {},
   "outputs": [],
   "source": [
    "cols = []\n",
    "count = 1\n",
    "for column in data1.columns:\n",
    "    if column == 'Second Dose Administered':\n",
    "        cols.append(f'Second Dose Administered{count}')\n",
    "        count+=1\n",
    "        continue\n",
    "    cols.append(column)\n",
    "data1.columns = cols"
   ]
  },
  {
   "cell_type": "code",
   "execution_count": 10,
   "id": "61768476",
   "metadata": {},
   "outputs": [],
   "source": [
    "df2 = data1.filter(regex='First Dose')"
   ]
  },
  {
   "cell_type": "code",
   "execution_count": 11,
   "id": "95071864",
   "metadata": {},
   "outputs": [],
   "source": [
    "df3 = data1.filter(regex='Second Dose')"
   ]
  },
  {
   "cell_type": "code",
   "execution_count": 12,
   "id": "ee4111f3",
   "metadata": {},
   "outputs": [],
   "source": [
    "newstuff = data1[['State_Code','State']].copy()"
   ]
  },
  {
   "cell_type": "code",
   "execution_count": 13,
   "id": "8f8c0d8e",
   "metadata": {},
   "outputs": [],
   "source": [
    "val1 = pd.concat([newstuff, df2], axis=1)\n",
    "val2 = pd.concat([newstuff, df3], axis=1)"
   ]
  },
  {
   "cell_type": "code",
   "execution_count": 14,
   "id": "e36b910f",
   "metadata": {},
   "outputs": [],
   "source": [
    "# since the data is commulative First Dose Administered211 is the total number of first doses since 14 AUG\n",
    "new_val1 = val1[['State_Code','State','First Dose Administered211']].copy()"
   ]
  },
  {
   "cell_type": "code",
   "execution_count": 15,
   "id": "57c77277",
   "metadata": {},
   "outputs": [],
   "source": [
    "# since the data is commulative Second Dose Administered211 is the total number of first doses since 14 AUG\n",
    "new_val2 = val2[['State_Code','State','Second Dose Administered211']].copy()"
   ]
  },
  {
   "cell_type": "code",
   "execution_count": 16,
   "id": "f528895a",
   "metadata": {},
   "outputs": [],
   "source": [
    "new_val1.rename(columns = {'State_Code':'stateid','First Dose Administered211':'dose1'}, inplace = True)"
   ]
  },
  {
   "cell_type": "code",
   "execution_count": 17,
   "id": "901031e0",
   "metadata": {},
   "outputs": [],
   "source": [
    "new_val2.rename(columns = {'State_Code':'stateid','Second Dose Administered211':'dose2'}, inplace = True)"
   ]
  },
  {
   "cell_type": "code",
   "execution_count": 18,
   "id": "54301c05",
   "metadata": {},
   "outputs": [],
   "source": [
    "new_val2['dose2'] = pd.to_numeric(new_val2['dose2'])"
   ]
  },
  {
   "cell_type": "code",
   "execution_count": 19,
   "id": "f79256f5",
   "metadata": {},
   "outputs": [],
   "source": [
    "new_val1['dose1'] = pd.to_numeric(new_val1['dose1'])"
   ]
  },
  {
   "cell_type": "code",
   "execution_count": 20,
   "id": "7f7272de",
   "metadata": {},
   "outputs": [],
   "source": [
    "fin_1 = new_val1.groupby(['stateid','State'])['dose1'].sum().reset_index()"
   ]
  },
  {
   "cell_type": "code",
   "execution_count": 21,
   "id": "4aa8cdc3",
   "metadata": {},
   "outputs": [],
   "source": [
    "fin_2 = new_val2.groupby(['stateid','State'])['dose2'].sum().reset_index()"
   ]
  },
  {
   "cell_type": "code",
   "execution_count": 22,
   "id": "4f8cb200",
   "metadata": {},
   "outputs": [],
   "source": [
    "int_df = pd.merge(fin_1, fin_2, how ='inner', on =['stateid','State'])"
   ]
  },
  {
   "cell_type": "code",
   "execution_count": 23,
   "id": "4d8cf16a",
   "metadata": {},
   "outputs": [
    {
     "data": {
      "text/plain": [
       "0                  Andaman and Nicobar Islands\n",
       "1                               Andhra Pradesh\n",
       "2                            Arunachal Pradesh\n",
       "3                                        Assam\n",
       "4                                        Bihar\n",
       "5                                   Chandigarh\n",
       "6                                 Chhattisgarh\n",
       "7                                        Delhi\n",
       "8     Dadra and Nagar Haveli and Daman and Diu\n",
       "9                                          Goa\n",
       "10                                     Gujarat\n",
       "11                            Himachal Pradesh\n",
       "12                                     Haryana\n",
       "13                                   Jharkhand\n",
       "14                           Jammu and Kashmir\n",
       "15                                   Karnataka\n",
       "16                                      Kerala\n",
       "17                                      Ladakh\n",
       "18                                 Lakshadweep\n",
       "19                                 Maharashtra\n",
       "20                                   Meghalaya\n",
       "21                                     Manipur\n",
       "22                              Madhya Pradesh\n",
       "23                                     Mizoram\n",
       "24                                    Nagaland\n",
       "25                                      Odisha\n",
       "26                                      Punjab\n",
       "27                                  Puducherry\n",
       "28                                   Rajasthan\n",
       "29                                      Sikkim\n",
       "30                                   Telangana\n",
       "31                                  Tamil Nadu\n",
       "32                                     Tripura\n",
       "33                               Uttar Pradesh\n",
       "34                                 Uttarakhand\n",
       "35                                 West Bengal\n",
       "Name: State, dtype: object"
      ]
     },
     "execution_count": 23,
     "metadata": {},
     "output_type": "execute_result"
    }
   ],
   "source": [
    "int_df.pop('State')"
   ]
  },
  {
   "cell_type": "code",
   "execution_count": 24,
   "id": "ce46bc1c",
   "metadata": {},
   "outputs": [],
   "source": [
    "o_arr = []\n",
    "txt = 'overall'\n",
    "for i in range(36):\n",
    "    o_arr.append(txt)"
   ]
  },
  {
   "cell_type": "code",
   "execution_count": 25,
   "id": "a8269f9f",
   "metadata": {},
   "outputs": [],
   "source": [
    "int_df['timeid'] = o_arr"
   ]
  },
  {
   "cell_type": "code",
   "execution_count": 26,
   "id": "b58f5171",
   "metadata": {},
   "outputs": [],
   "source": [
    "int_df = int_df[['stateid','timeid','dose1','dose2']]"
   ]
  },
  {
   "cell_type": "code",
   "execution_count": 27,
   "id": "ce78a8b2",
   "metadata": {},
   "outputs": [],
   "source": [
    "int_df.to_csv('vaccinated-count-state-overall.csv')"
   ]
  },
  {
   "cell_type": "code",
   "execution_count": 28,
   "id": "2ebd7593",
   "metadata": {},
   "outputs": [],
   "source": [
    "k_state = val1['State_Code'].copy()"
   ]
  },
  {
   "cell_type": "code",
   "execution_count": 29,
   "id": "0434a900",
   "metadata": {},
   "outputs": [],
   "source": [
    "new_k_state = k_state.to_frame()"
   ]
  },
  {
   "cell_type": "code",
   "execution_count": 30,
   "id": "941f3773",
   "metadata": {},
   "outputs": [],
   "source": [
    "text1 = 'First Dose Administered'\n",
    "text2 = 'Second Dose Administered'\n",
    "l_col1 =list(val1.columns)\n",
    "l_col2 =list(val2.columns)\n",
    "for i in range(212,230):\n",
    "    new1 = text1 + str(i)\n",
    "    new2 = text2+str(i)\n",
    "    l_col1.remove(new1)\n",
    "    l_col2.remove(new2)"
   ]
  },
  {
   "cell_type": "code",
   "execution_count": 31,
   "id": "4ff4369b",
   "metadata": {},
   "outputs": [],
   "source": [
    "dfx = val1[l_col1].copy()\n",
    "dfy = val2[l_col2].copy()"
   ]
  },
  {
   "cell_type": "code",
   "execution_count": 32,
   "id": "14e8f439",
   "metadata": {},
   "outputs": [],
   "source": [
    "dfx = dfx.dropna()\n",
    "dfy = dfy.dropna()"
   ]
  },
  {
   "cell_type": "code",
   "execution_count": 33,
   "id": "cacca46b",
   "metadata": {},
   "outputs": [
    {
     "data": {
      "text/plain": [
       "1      AN\n",
       "2      AN\n",
       "3      AN\n",
       "4      AP\n",
       "5      AP\n",
       "       ..\n",
       "749    WB\n",
       "750    WB\n",
       "751    WB\n",
       "752    WB\n",
       "754    WB\n",
       "Name: State_Code, Length: 749, dtype: object"
      ]
     },
     "execution_count": 33,
     "metadata": {},
     "output_type": "execute_result"
    }
   ],
   "source": [
    "dfx.pop('State_Code')"
   ]
  },
  {
   "cell_type": "code",
   "execution_count": 34,
   "id": "395bfbeb",
   "metadata": {},
   "outputs": [
    {
     "data": {
      "text/plain": [
       "1      Andaman and Nicobar Islands\n",
       "2      Andaman and Nicobar Islands\n",
       "3      Andaman and Nicobar Islands\n",
       "4                   Andhra Pradesh\n",
       "5                   Andhra Pradesh\n",
       "                  ...             \n",
       "749                    West Bengal\n",
       "750                    West Bengal\n",
       "751                    West Bengal\n",
       "752                    West Bengal\n",
       "754                    West Bengal\n",
       "Name: State, Length: 749, dtype: object"
      ]
     },
     "execution_count": 34,
     "metadata": {},
     "output_type": "execute_result"
    }
   ],
   "source": [
    "dfx.pop('State')"
   ]
  },
  {
   "cell_type": "code",
   "execution_count": 35,
   "id": "86782bfe",
   "metadata": {},
   "outputs": [
    {
     "data": {
      "text/plain": [
       "1      AN\n",
       "2      AN\n",
       "3      AN\n",
       "4      AP\n",
       "5      AP\n",
       "       ..\n",
       "749    WB\n",
       "750    WB\n",
       "751    WB\n",
       "752    WB\n",
       "754    WB\n",
       "Name: State_Code, Length: 749, dtype: object"
      ]
     },
     "execution_count": 35,
     "metadata": {},
     "output_type": "execute_result"
    }
   ],
   "source": [
    "dfy.pop('State_Code')"
   ]
  },
  {
   "cell_type": "code",
   "execution_count": 36,
   "id": "739284e0",
   "metadata": {},
   "outputs": [
    {
     "data": {
      "text/plain": [
       "1      Andaman and Nicobar Islands\n",
       "2      Andaman and Nicobar Islands\n",
       "3      Andaman and Nicobar Islands\n",
       "4                   Andhra Pradesh\n",
       "5                   Andhra Pradesh\n",
       "                  ...             \n",
       "749                    West Bengal\n",
       "750                    West Bengal\n",
       "751                    West Bengal\n",
       "752                    West Bengal\n",
       "754                    West Bengal\n",
       "Name: State, Length: 749, dtype: object"
      ]
     },
     "execution_count": 36,
     "metadata": {},
     "output_type": "execute_result"
    }
   ],
   "source": [
    "dfy.pop('State')"
   ]
  },
  {
   "cell_type": "code",
   "execution_count": 37,
   "id": "39951f03",
   "metadata": {},
   "outputs": [],
   "source": [
    "stu_arr=[]\n",
    "the = dfx.values.tolist()\n",
    "for i in range(len(the)):\n",
    "    temp=[]\n",
    "    s=0\n",
    "    e=len(the[i])\n",
    "    for j in range(len(the[i])):\n",
    "        if s+29<=e:\n",
    "            s+=29\n",
    "            val = int(the[i][s])-int(the[i][s-29])\n",
    "            temp.append(val)\n",
    "    stu_arr.append(temp)  "
   ]
  },
  {
   "cell_type": "code",
   "execution_count": 38,
   "id": "7358e325",
   "metadata": {},
   "outputs": [],
   "source": [
    "first_dose = pd.DataFrame(stu_arr)"
   ]
  },
  {
   "cell_type": "code",
   "execution_count": 39,
   "id": "caecb639",
   "metadata": {},
   "outputs": [],
   "source": [
    "first_dose['dose1'] = first_dose.mean(axis=1)"
   ]
  },
  {
   "cell_type": "code",
   "execution_count": 40,
   "id": "124afb7b",
   "metadata": {},
   "outputs": [],
   "source": [
    "first_dose['dose1'] = first_dose['dose1'].apply(np.ceil)"
   ]
  },
  {
   "cell_type": "code",
   "execution_count": 41,
   "id": "74b8e66e",
   "metadata": {},
   "outputs": [],
   "source": [
    "stu_arra=[]\n",
    "thea = dfy.values.tolist()\n",
    "for i in range(len(thea)):\n",
    "    tempa=[]\n",
    "    sa=0\n",
    "    ea=len(thea[i])\n",
    "    for j in range(len(thea[i])):\n",
    "        if sa+29<=ea:\n",
    "            sa+=29\n",
    "            vala = int(thea[i][s])-int(thea[i][s-29])\n",
    "            tempa.append(vala)\n",
    "    stu_arra.append(tempa)  "
   ]
  },
  {
   "cell_type": "code",
   "execution_count": 42,
   "id": "c68691e3",
   "metadata": {},
   "outputs": [],
   "source": [
    "second_dose = pd.DataFrame(stu_arra)"
   ]
  },
  {
   "cell_type": "code",
   "execution_count": 43,
   "id": "4d5709c8",
   "metadata": {},
   "outputs": [],
   "source": [
    "second_dose['dose2'] = second_dose.mean(axis=1)"
   ]
  },
  {
   "cell_type": "code",
   "execution_count": 44,
   "id": "0d727c38",
   "metadata": {},
   "outputs": [],
   "source": [
    "second_dose['dose2'] = second_dose['dose2'].apply(np.ceil)"
   ]
  },
  {
   "cell_type": "code",
   "execution_count": 45,
   "id": "a0d5d9dc",
   "metadata": {},
   "outputs": [],
   "source": [
    "f_d1 = first_dose[['dose1']].copy()"
   ]
  },
  {
   "cell_type": "code",
   "execution_count": 46,
   "id": "a5576ec2",
   "metadata": {},
   "outputs": [],
   "source": [
    "f_d2 = second_dose[['dose2']].copy()"
   ]
  },
  {
   "cell_type": "code",
   "execution_count": 47,
   "id": "a86a69a9",
   "metadata": {},
   "outputs": [],
   "source": [
    "final = pd.concat([f_d1, f_d2], axis=1)"
   ]
  },
  {
   "cell_type": "code",
   "execution_count": 48,
   "id": "c90278cd",
   "metadata": {},
   "outputs": [],
   "source": [
    "n_data1 = data1.copy(deep=True)"
   ]
  },
  {
   "cell_type": "code",
   "execution_count": 49,
   "id": "0214cca0",
   "metadata": {},
   "outputs": [],
   "source": [
    "n_data1 = n_data1.dropna()"
   ]
  },
  {
   "cell_type": "code",
   "execution_count": 50,
   "id": "4d3eff5c",
   "metadata": {},
   "outputs": [],
   "source": [
    "keyn_data1 = n_data1[['State_Code']].copy()"
   ]
  },
  {
   "cell_type": "code",
   "execution_count": 51,
   "id": "ac9ec451",
   "metadata": {},
   "outputs": [],
   "source": [
    "keyn_data1.reset_index(inplace = True)"
   ]
  },
  {
   "cell_type": "code",
   "execution_count": 52,
   "id": "6fa21f68",
   "metadata": {},
   "outputs": [
    {
     "data": {
      "text/plain": [
       "0        1\n",
       "1        2\n",
       "2        3\n",
       "3        4\n",
       "4        5\n",
       "      ... \n",
       "744    749\n",
       "745    750\n",
       "746    751\n",
       "747    752\n",
       "748    754\n",
       "Name: index, Length: 749, dtype: int64"
      ]
     },
     "execution_count": 52,
     "metadata": {},
     "output_type": "execute_result"
    }
   ],
   "source": [
    "keyn_data1.pop('index')"
   ]
  },
  {
   "cell_type": "code",
   "execution_count": 53,
   "id": "35d56cbd",
   "metadata": {},
   "outputs": [],
   "source": [
    "ok = pd.concat([keyn_data1, final], axis=1)"
   ]
  },
  {
   "cell_type": "code",
   "execution_count": 54,
   "id": "84196188",
   "metadata": {},
   "outputs": [],
   "source": [
    "sen = 'month'\n",
    "vec = []\n",
    "for i in range(749):\n",
    "    vec.append(sen)"
   ]
  },
  {
   "cell_type": "code",
   "execution_count": 55,
   "id": "24a36c6f",
   "metadata": {},
   "outputs": [],
   "source": [
    "ok['timeid'] = vec"
   ]
  },
  {
   "cell_type": "code",
   "execution_count": 56,
   "id": "9e02b664",
   "metadata": {},
   "outputs": [],
   "source": [
    "ok.rename(columns = {'State_Code':'stateid'},inplace =True)"
   ]
  },
  {
   "cell_type": "code",
   "execution_count": 57,
   "id": "40cf3e4c",
   "metadata": {},
   "outputs": [],
   "source": [
    "ok = ok[['stateid','timeid','dose1','dose2']]"
   ]
  },
  {
   "cell_type": "code",
   "execution_count": 58,
   "id": "8a7d6d7b",
   "metadata": {},
   "outputs": [],
   "source": [
    "ok.to_csv('vaccinated-count-states-monthly.csv')"
   ]
  },
  {
   "cell_type": "code",
   "execution_count": 59,
   "id": "adf7e7db",
   "metadata": {},
   "outputs": [],
   "source": [
    "copy_a = val1.copy(deep=True)\n",
    "copy_b = val2.copy(deep=True)"
   ]
  },
  {
   "cell_type": "code",
   "execution_count": 60,
   "id": "c87b5451",
   "metadata": {},
   "outputs": [],
   "source": [
    "copy_a = copy_a.dropna()\n",
    "copy_b = copy_b.dropna()"
   ]
  },
  {
   "cell_type": "code",
   "execution_count": 61,
   "id": "d524d83a",
   "metadata": {},
   "outputs": [
    {
     "data": {
      "text/plain": [
       "1      AN\n",
       "2      AN\n",
       "3      AN\n",
       "4      AP\n",
       "5      AP\n",
       "       ..\n",
       "749    WB\n",
       "750    WB\n",
       "751    WB\n",
       "752    WB\n",
       "754    WB\n",
       "Name: State_Code, Length: 749, dtype: object"
      ]
     },
     "execution_count": 61,
     "metadata": {},
     "output_type": "execute_result"
    }
   ],
   "source": [
    "copy_a.pop('State_Code')"
   ]
  },
  {
   "cell_type": "code",
   "execution_count": 62,
   "id": "d99c797d",
   "metadata": {},
   "outputs": [
    {
     "data": {
      "text/plain": [
       "1      Andaman and Nicobar Islands\n",
       "2      Andaman and Nicobar Islands\n",
       "3      Andaman and Nicobar Islands\n",
       "4                   Andhra Pradesh\n",
       "5                   Andhra Pradesh\n",
       "                  ...             \n",
       "749                    West Bengal\n",
       "750                    West Bengal\n",
       "751                    West Bengal\n",
       "752                    West Bengal\n",
       "754                    West Bengal\n",
       "Name: State, Length: 749, dtype: object"
      ]
     },
     "execution_count": 62,
     "metadata": {},
     "output_type": "execute_result"
    }
   ],
   "source": [
    "copy_a.pop('State')"
   ]
  },
  {
   "cell_type": "code",
   "execution_count": 63,
   "id": "f463c0e6",
   "metadata": {},
   "outputs": [
    {
     "data": {
      "text/plain": [
       "1      AN\n",
       "2      AN\n",
       "3      AN\n",
       "4      AP\n",
       "5      AP\n",
       "       ..\n",
       "749    WB\n",
       "750    WB\n",
       "751    WB\n",
       "752    WB\n",
       "754    WB\n",
       "Name: State_Code, Length: 749, dtype: object"
      ]
     },
     "execution_count": 63,
     "metadata": {},
     "output_type": "execute_result"
    }
   ],
   "source": [
    "copy_b.pop('State_Code')"
   ]
  },
  {
   "cell_type": "code",
   "execution_count": 64,
   "id": "ced71e24",
   "metadata": {},
   "outputs": [
    {
     "data": {
      "text/plain": [
       "1      Andaman and Nicobar Islands\n",
       "2      Andaman and Nicobar Islands\n",
       "3      Andaman and Nicobar Islands\n",
       "4                   Andhra Pradesh\n",
       "5                   Andhra Pradesh\n",
       "                  ...             \n",
       "749                    West Bengal\n",
       "750                    West Bengal\n",
       "751                    West Bengal\n",
       "752                    West Bengal\n",
       "754                    West Bengal\n",
       "Name: State, Length: 749, dtype: object"
      ]
     },
     "execution_count": 64,
     "metadata": {},
     "output_type": "execute_result"
    }
   ],
   "source": [
    "copy_b.pop('State')"
   ]
  },
  {
   "cell_type": "code",
   "execution_count": 65,
   "id": "0a79732f",
   "metadata": {},
   "outputs": [],
   "source": [
    "san=[]\n",
    "the = copy_a.values.tolist()\n",
    "for i in range(len(the)):\n",
    "    temp1=[]\n",
    "    s1=0\n",
    "    e1=len(the[i])\n",
    "    for j in range(len(the[i])):\n",
    "        if s1+7<=e1:\n",
    "            s1+=7\n",
    "            val1 = int(the[i][s1])-int(the[i][s1-7])\n",
    "            temp1.append(val1)\n",
    "    san.append(temp1)"
   ]
  },
  {
   "cell_type": "code",
   "execution_count": 66,
   "id": "0314d5b1",
   "metadata": {},
   "outputs": [],
   "source": [
    "do1 = pd.DataFrame(san)"
   ]
  },
  {
   "cell_type": "code",
   "execution_count": 67,
   "id": "4fbd469b",
   "metadata": {},
   "outputs": [],
   "source": [
    "do1['dose1'] = do1.mean(axis=1)"
   ]
  },
  {
   "cell_type": "code",
   "execution_count": 68,
   "id": "e127999f",
   "metadata": {},
   "outputs": [],
   "source": [
    "do1['dose1'] = do1['dose1'].abs()"
   ]
  },
  {
   "cell_type": "code",
   "execution_count": 69,
   "id": "b660ed6b",
   "metadata": {},
   "outputs": [],
   "source": [
    "do1['dose1'] = do1['dose1'].apply(np.ceil)"
   ]
  },
  {
   "cell_type": "code",
   "execution_count": 70,
   "id": "337d8122",
   "metadata": {},
   "outputs": [],
   "source": [
    "sana=[]\n",
    "thex = copy_b.values.tolist()\n",
    "for i in range(len(thex)):\n",
    "    temp2=[]\n",
    "    s2=0\n",
    "    e2=len(thex[i])\n",
    "    for j in range(len(thex[i])):\n",
    "        if s2+7<=e2:\n",
    "            s2+=7\n",
    "            val2 = int(thex[i][s2])-int(thex[i][s2-7])\n",
    "            temp2.append(val2)\n",
    "    sana.append(temp2)"
   ]
  },
  {
   "cell_type": "code",
   "execution_count": 71,
   "id": "cf103cd8",
   "metadata": {},
   "outputs": [],
   "source": [
    "do2 = pd.DataFrame(sana)"
   ]
  },
  {
   "cell_type": "code",
   "execution_count": 72,
   "id": "3fe2651e",
   "metadata": {},
   "outputs": [],
   "source": [
    "do2['dose2'] = do2.mean(axis=1)"
   ]
  },
  {
   "cell_type": "code",
   "execution_count": 73,
   "id": "88d1333c",
   "metadata": {},
   "outputs": [],
   "source": [
    "do2['dose2'] = do2['dose2'].abs()"
   ]
  },
  {
   "cell_type": "code",
   "execution_count": 74,
   "id": "9c38fe1b",
   "metadata": {},
   "outputs": [],
   "source": [
    "do2['dose2'] = do2['dose2'].apply(np.ceil)"
   ]
  },
  {
   "cell_type": "code",
   "execution_count": 75,
   "id": "83b56183",
   "metadata": {},
   "outputs": [],
   "source": [
    "s_d1 = do1[['dose1']].copy()\n",
    "s_d2 = do2[['dose2']].copy()"
   ]
  },
  {
   "cell_type": "code",
   "execution_count": 76,
   "id": "72f0e257",
   "metadata": {},
   "outputs": [],
   "source": [
    "finalx = pd.concat([s_d1, s_d2], axis=1)"
   ]
  },
  {
   "cell_type": "code",
   "execution_count": 77,
   "id": "f1c29f05",
   "metadata": {},
   "outputs": [],
   "source": [
    "oka = pd.concat([keyn_data1, finalx], axis=1)"
   ]
  },
  {
   "cell_type": "code",
   "execution_count": 78,
   "id": "1f70020d",
   "metadata": {},
   "outputs": [],
   "source": [
    "jafa = 'week'\n",
    "some = []\n",
    "for i in range(749):\n",
    "    some.append(jafa)"
   ]
  },
  {
   "cell_type": "code",
   "execution_count": 79,
   "id": "ed3caf71",
   "metadata": {},
   "outputs": [],
   "source": [
    "oka['timeid'] = some"
   ]
  },
  {
   "cell_type": "code",
   "execution_count": 80,
   "id": "a2996925",
   "metadata": {},
   "outputs": [],
   "source": [
    "oka.rename(columns = {'State_Code':'stateid'},inplace =True)"
   ]
  },
  {
   "cell_type": "code",
   "execution_count": 81,
   "id": "e135a360",
   "metadata": {},
   "outputs": [],
   "source": [
    "oka = oka[['stateid','timeid','dose1','dose2']]"
   ]
  },
  {
   "cell_type": "code",
   "execution_count": 82,
   "id": "b06ebc16",
   "metadata": {},
   "outputs": [],
   "source": [
    "oka.to_csv('vaccinated-count-states-weekly.csv')"
   ]
  }
 ],
 "metadata": {
  "kernelspec": {
   "display_name": "Python 3 (ipykernel)",
   "language": "python",
   "name": "python3"
  },
  "language_info": {
   "codemirror_mode": {
    "name": "ipython",
    "version": 3
   },
   "file_extension": ".py",
   "mimetype": "text/x-python",
   "name": "python",
   "nbconvert_exporter": "python",
   "pygments_lexer": "ipython3",
   "version": "3.9.6"
  }
 },
 "nbformat": 4,
 "nbformat_minor": 5
}
