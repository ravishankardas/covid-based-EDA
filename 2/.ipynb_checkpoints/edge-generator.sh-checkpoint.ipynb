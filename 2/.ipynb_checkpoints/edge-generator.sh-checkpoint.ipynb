{
 "cells": [
  {
   "cell_type": "code",
   "execution_count": 1,
   "id": "2e59ba88",
   "metadata": {},
   "outputs": [],
   "source": [
    "import json"
   ]
  },
  {
   "cell_type": "code",
   "execution_count": 2,
   "id": "73b1f2fe",
   "metadata": {},
   "outputs": [],
   "source": [
    "f = open('neighbor-districts-modified.json',)\n",
    "data = json.load(f)"
   ]
  },
  {
   "cell_type": "code",
   "execution_count": 3,
   "id": "4d3ad97f",
   "metadata": {},
   "outputs": [],
   "source": [
    "from collections import defaultdict\n",
    "\n",
    "graph = defaultdict(list)\n",
    "def addEdge(graph,u,v):\n",
    "    graph[u].append(v)\n",
    "    \n",
    "def generate_edges(graph):\n",
    "    edges = []\n",
    "    for node in graph:\n",
    "        for neighbour in graph[node]:\n",
    "            edges.append((node, neighbour))\n",
    "    return edges\n",
    "  \n"
   ]
  },
  {
   "cell_type": "code",
   "execution_count": 4,
   "id": "503c209d",
   "metadata": {},
   "outputs": [],
   "source": [
    "for i in data.keys():\n",
    "    length= len(data[i])\n",
    "    for j in range(length):\n",
    "        addEdge(graph,i.lower(),data[i][j])\n"
   ]
  },
  {
   "cell_type": "code",
   "execution_count": 5,
   "id": "f628c7fa",
   "metadata": {},
   "outputs": [],
   "source": [
    "new_arr = generate_edges(graph)"
   ]
  },
  {
   "cell_type": "code",
   "execution_count": 6,
   "id": "587d8232",
   "metadata": {},
   "outputs": [],
   "source": [
    "import pandas as pd\n",
    "df=pd.DataFrame(new_arr)"
   ]
  },
  {
   "cell_type": "code",
   "execution_count": 7,
   "id": "a270adf1",
   "metadata": {},
   "outputs": [],
   "source": [
    "df.to_csv('edge-graph.csv',index=False)"
   ]
  }
 ],
 "metadata": {
  "kernelspec": {
   "display_name": "Python 3 (ipykernel)",
   "language": "python",
   "name": "python3"
  },
  "language_info": {
   "codemirror_mode": {
    "name": "ipython",
    "version": 3
   },
   "file_extension": ".py",
   "mimetype": "text/x-python",
   "name": "python",
   "nbconvert_exporter": "python",
   "pygments_lexer": "ipython3",
   "version": "3.9.6"
  }
 },
 "nbformat": 4,
 "nbformat_minor": 5
}
