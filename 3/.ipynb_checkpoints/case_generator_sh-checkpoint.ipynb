{
 "cells": [
  {
   "cell_type": "code",
   "execution_count": 1,
   "id": "e3682460",
   "metadata": {},
   "outputs": [],
   "source": [
    "import pandas as pd\n",
    "import json"
   ]
  },
  {
   "cell_type": "code",
   "execution_count": 2,
   "id": "d22d5bea",
   "metadata": {},
   "outputs": [],
   "source": [
    "f = open('neighbor-districts-modified.json',)\n",
    "data = json.load(f)"
   ]
  },
  {
   "cell_type": "code",
   "execution_count": 3,
   "id": "5504f3a7",
   "metadata": {},
   "outputs": [],
   "source": [
    "key = []\n",
    "for i in data.keys():\n",
    "    key.append(i)"
   ]
  },
  {
   "cell_type": "code",
   "execution_count": 4,
   "id": "c859726c",
   "metadata": {},
   "outputs": [],
   "source": [
    "key.sort()"
   ]
  },
  {
   "cell_type": "code",
   "execution_count": 5,
   "id": "4e3f6f99",
   "metadata": {},
   "outputs": [],
   "source": [
    "dist_key = pd.DataFrame(key)"
   ]
  },
  {
   "cell_type": "code",
   "execution_count": 6,
   "id": "458681ba",
   "metadata": {},
   "outputs": [],
   "source": [
    "dist_key.rename(columns = {0:'District_Key'}, inplace = True)"
   ]
  },
  {
   "cell_type": "code",
   "execution_count": 7,
   "id": "816185c1",
   "metadata": {},
   "outputs": [],
   "source": [
    "the_a = pd.read_csv(\"districts.csv\")\n",
    "the_a['Date'] = pd.to_datetime(the_a['Date'])\n",
    "the_a=the_a.sort_values('Date')"
   ]
  },
  {
   "cell_type": "code",
   "execution_count": 8,
   "id": "88a6c650",
   "metadata": {},
   "outputs": [],
   "source": [
    "the_b = the_a[[\"Date\",\"District\",\"Confirmed\"]].copy()\n",
    "the_b.sort_values([\"Date\"],axis=0,ascending=[True],inplace=True)"
   ]
  },
  {
   "cell_type": "code",
   "execution_count": 9,
   "id": "11e935f0",
   "metadata": {},
   "outputs": [],
   "source": [
    "mask = (the_b['Date'] >= '2020-2-15') & (the_b['Date'] <= '2021-8-14')\n",
    "ravi = the_b.loc[mask]"
   ]
  },
  {
   "cell_type": "code",
   "execution_count": 10,
   "id": "18534ec6",
   "metadata": {},
   "outputs": [],
   "source": [
    "the_c = pd.read_csv(\"cowin_vaccine_data_districtwise.csv\",low_memory=False)\n",
    "dist_dist_keys = the_c[[\"District\",\"District_Key\"]].copy()"
   ]
  },
  {
   "cell_type": "code",
   "execution_count": 11,
   "id": "23143d73",
   "metadata": {},
   "outputs": [],
   "source": [
    "final_dist_key = pd.merge(dist_key, dist_dist_keys, how ='inner', on =[\"District_Key\"])"
   ]
  },
  {
   "cell_type": "code",
   "execution_count": 12,
   "id": "5c9ac2ca",
   "metadata": {},
   "outputs": [
    {
     "data": {
      "text/plain": [
       "0            Tumakuru\n",
       "1            Tumakuru\n",
       "2            Tumakuru\n",
       "3            Tumakuru\n",
       "4            Tumakuru\n",
       "             ...     \n",
       "277154    Lakshadweep\n",
       "277155    Lakshadweep\n",
       "277156    Lakshadweep\n",
       "277157    Lakshadweep\n",
       "277158    Lakshadweep\n",
       "Name: District, Length: 277159, dtype: object"
      ]
     },
     "execution_count": 12,
     "metadata": {},
     "output_type": "execute_result"
    }
   ],
   "source": [
    "stuff = pd.merge(ravi, final_dist_key, how ='inner', on =[\"District\"])\n",
    "stuff.pop('District')"
   ]
  },
  {
   "cell_type": "code",
   "execution_count": 13,
   "id": "965b0535",
   "metadata": {},
   "outputs": [],
   "source": [
    "stuff = stuff[['District_Key','Date','Confirmed']]\n",
    "dictabc = {\n",
    "        'District_Key': 'districtid',\n",
    "        'Date':'timeid',\n",
    "        'Confirmed':'cases'\n",
    "       }\n",
    "stuff.rename(columns=dictabc,inplace=True)"
   ]
  },
  {
   "cell_type": "code",
   "execution_count": 14,
   "id": "12a4234e",
   "metadata": {},
   "outputs": [],
   "source": [
    "dist_arr=[]\n",
    "for i in stuff['districtid']:\n",
    "    dist_arr.append(i)\n",
    "\n",
    "new_stuff = pd.DataFrame(dist_arr)\n",
    "dicta = {\n",
    "        0: 'districtid',\n",
    "       }\n",
    "new_stuff.rename(columns=dicta,inplace=True)"
   ]
  },
  {
   "cell_type": "code",
   "execution_count": 15,
   "id": "3e9a2838",
   "metadata": {},
   "outputs": [
    {
     "data": {
      "text/plain": [
       "623"
      ]
     },
     "execution_count": 15,
     "metadata": {},
     "output_type": "execute_result"
    }
   ],
   "source": [
    "new_stuff=new_stuff.drop_duplicates(subset='districtid',keep='first')\n",
    "new_stuff.size"
   ]
  },
  {
   "cell_type": "code",
   "execution_count": 16,
   "id": "8b14e992",
   "metadata": {},
   "outputs": [],
   "source": [
    "cases_sum=[]\n",
    "for i in new_stuff[\"districtid\"]:\n",
    "    cases_sum.append(stuff[stuff['districtid']==i].cases.sum())\n"
   ]
  },
  {
   "cell_type": "code",
   "execution_count": 17,
   "id": "8ddc139d",
   "metadata": {},
   "outputs": [],
   "source": [
    "overall_cases = pd.DataFrame(cases_sum)\n",
    "Name_list = new_stuff[\"districtid\"].tolist()\n",
    "overall_cases['districtid']=Name_list"
   ]
  },
  {
   "cell_type": "code",
   "execution_count": 18,
   "id": "c36b749d",
   "metadata": {},
   "outputs": [],
   "source": [
    "dictb = {\n",
    "        0: 'cases',\n",
    "       }\n",
    "overall_cases.rename(columns=dictb,inplace=True)"
   ]
  },
  {
   "cell_type": "code",
   "execution_count": 19,
   "id": "3c02b5d0",
   "metadata": {},
   "outputs": [],
   "source": [
    "overall_cases = overall_cases[['districtid','cases']]"
   ]
  },
  {
   "cell_type": "code",
   "execution_count": 20,
   "id": "6594b90b",
   "metadata": {},
   "outputs": [],
   "source": [
    "ahem = []\n",
    "txt='overall'\n",
    "for i in range(623):\n",
    "    ahem.append(txt)"
   ]
  },
  {
   "cell_type": "code",
   "execution_count": 21,
   "id": "07cfed1d",
   "metadata": {},
   "outputs": [],
   "source": [
    "overall_cases['timeid'] = ahem\n",
    "overall_cases = overall_cases[['districtid','timeid','cases']]\n",
    "overall_cases.to_csv('cases-overall.csv')"
   ]
  },
  {
   "cell_type": "code",
   "execution_count": 22,
   "id": "48a68cc6",
   "metadata": {},
   "outputs": [],
   "source": [
    "res = stuff.copy(deep=True)"
   ]
  },
  {
   "cell_type": "code",
   "execution_count": 23,
   "id": "148d351c",
   "metadata": {},
   "outputs": [],
   "source": [
    "res['monthid'] = pd.DatetimeIndex(res['timeid']).month"
   ]
  },
  {
   "cell_type": "code",
   "execution_count": 24,
   "id": "5e74c8b2",
   "metadata": {},
   "outputs": [],
   "source": [
    "res= res[['districtid','monthid','cases']]"
   ]
  },
  {
   "cell_type": "code",
   "execution_count": 25,
   "id": "debb2f98",
   "metadata": {},
   "outputs": [],
   "source": [
    "res.to_csv('cases-month.csv')"
   ]
  },
  {
   "cell_type": "code",
   "execution_count": 26,
   "id": "7f813058",
   "metadata": {},
   "outputs": [],
   "source": [
    "new_r = ravi.copy(deep=True)"
   ]
  },
  {
   "cell_type": "code",
   "execution_count": 27,
   "id": "da9d07c7",
   "metadata": {},
   "outputs": [],
   "source": [
    "new_r['weekid'] = new_r['Date'].dt.isocalendar().week"
   ]
  },
  {
   "cell_type": "code",
   "execution_count": 28,
   "id": "0521773b",
   "metadata": {},
   "outputs": [
    {
     "data": {
      "text/html": [
       "<div>\n",
       "<style scoped>\n",
       "    .dataframe tbody tr th:only-of-type {\n",
       "        vertical-align: middle;\n",
       "    }\n",
       "\n",
       "    .dataframe tbody tr th {\n",
       "        vertical-align: top;\n",
       "    }\n",
       "\n",
       "    .dataframe thead th {\n",
       "        text-align: right;\n",
       "    }\n",
       "</style>\n",
       "<table border=\"1\" class=\"dataframe\">\n",
       "  <thead>\n",
       "    <tr style=\"text-align: right;\">\n",
       "      <th></th>\n",
       "      <th>Date</th>\n",
       "      <th>District</th>\n",
       "      <th>Confirmed</th>\n",
       "      <th>weekid</th>\n",
       "    </tr>\n",
       "  </thead>\n",
       "  <tbody>\n",
       "    <tr>\n",
       "      <th>3174</th>\n",
       "      <td>2020-03-05</td>\n",
       "      <td>Tumakuru</td>\n",
       "      <td>7</td>\n",
       "      <td>10</td>\n",
       "    </tr>\n",
       "    <tr>\n",
       "      <th>3180</th>\n",
       "      <td>2020-03-05</td>\n",
       "      <td>Idukki</td>\n",
       "      <td>24</td>\n",
       "      <td>10</td>\n",
       "    </tr>\n",
       "    <tr>\n",
       "      <th>3179</th>\n",
       "      <td>2020-03-05</td>\n",
       "      <td>Ernakulam</td>\n",
       "      <td>24</td>\n",
       "      <td>10</td>\n",
       "    </tr>\n",
       "    <tr>\n",
       "      <th>3178</th>\n",
       "      <td>2020-03-05</td>\n",
       "      <td>Alappuzha</td>\n",
       "      <td>5</td>\n",
       "      <td>10</td>\n",
       "    </tr>\n",
       "    <tr>\n",
       "      <th>3176</th>\n",
       "      <td>2020-03-05</td>\n",
       "      <td>Uttara Kannada</td>\n",
       "      <td>11</td>\n",
       "      <td>10</td>\n",
       "    </tr>\n",
       "    <tr>\n",
       "      <th>...</th>\n",
       "      <td>...</td>\n",
       "      <td>...</td>\n",
       "      <td>...</td>\n",
       "      <td>...</td>\n",
       "    </tr>\n",
       "    <tr>\n",
       "      <th>306658</th>\n",
       "      <td>2021-08-14</td>\n",
       "      <td>Patna</td>\n",
       "      <td>146846</td>\n",
       "      <td>32</td>\n",
       "    </tr>\n",
       "    <tr>\n",
       "      <th>306657</th>\n",
       "      <td>2021-08-14</td>\n",
       "      <td>Nawada</td>\n",
       "      <td>10345</td>\n",
       "      <td>32</td>\n",
       "    </tr>\n",
       "    <tr>\n",
       "      <th>306656</th>\n",
       "      <td>2021-08-14</td>\n",
       "      <td>Nalanda</td>\n",
       "      <td>23424</td>\n",
       "      <td>32</td>\n",
       "    </tr>\n",
       "    <tr>\n",
       "      <th>306633</th>\n",
       "      <td>2021-08-14</td>\n",
       "      <td>Araria</td>\n",
       "      <td>14963</td>\n",
       "      <td>32</td>\n",
       "    </tr>\n",
       "    <tr>\n",
       "      <th>306663</th>\n",
       "      <td>2021-08-14</td>\n",
       "      <td>Saran</td>\n",
       "      <td>23267</td>\n",
       "      <td>32</td>\n",
       "    </tr>\n",
       "  </tbody>\n",
       "</table>\n",
       "<p>278837 rows × 4 columns</p>\n",
       "</div>"
      ],
      "text/plain": [
       "             Date        District  Confirmed  weekid\n",
       "3174   2020-03-05        Tumakuru          7      10\n",
       "3180   2020-03-05          Idukki         24      10\n",
       "3179   2020-03-05       Ernakulam         24      10\n",
       "3178   2020-03-05       Alappuzha          5      10\n",
       "3176   2020-03-05  Uttara Kannada         11      10\n",
       "...           ...             ...        ...     ...\n",
       "306658 2021-08-14           Patna     146846      32\n",
       "306657 2021-08-14          Nawada      10345      32\n",
       "306656 2021-08-14         Nalanda      23424      32\n",
       "306633 2021-08-14          Araria      14963      32\n",
       "306663 2021-08-14           Saran      23267      32\n",
       "\n",
       "[278837 rows x 4 columns]"
      ]
     },
     "execution_count": 28,
     "metadata": {},
     "output_type": "execute_result"
    }
   ],
   "source": [
    "new_r"
   ]
  },
  {
   "cell_type": "code",
   "execution_count": 29,
   "id": "d01c3f9b",
   "metadata": {},
   "outputs": [],
   "source": [
    "# new_r['weekid'] = pd.DatetimeIndex(new_r['Date']).week"
   ]
  },
  {
   "cell_type": "code",
   "execution_count": 30,
   "id": "33236a82",
   "metadata": {},
   "outputs": [],
   "source": [
    "new_r.sort_values(\"District\", axis = 0, ascending = True,\n",
    "                 inplace = True, na_position ='last')"
   ]
  },
  {
   "cell_type": "code",
   "execution_count": 31,
   "id": "4d0c06de",
   "metadata": {},
   "outputs": [],
   "source": [
    "new_r.reset_index(inplace = True)"
   ]
  },
  {
   "cell_type": "code",
   "execution_count": 32,
   "id": "9868d42f",
   "metadata": {},
   "outputs": [
    {
     "data": {
      "text/plain": [
       "0         112526\n",
       "1          11801\n",
       "2         125653\n",
       "3         238591\n",
       "4          44292\n",
       "           ...  \n",
       "278832    199244\n",
       "278833     34561\n",
       "278834    109315\n",
       "278835     76472\n",
       "278836    231437\n",
       "Name: index, Length: 278837, dtype: int64"
      ]
     },
     "execution_count": 32,
     "metadata": {},
     "output_type": "execute_result"
    }
   ],
   "source": [
    "new_r.pop('index')"
   ]
  },
  {
   "cell_type": "code",
   "execution_count": 33,
   "id": "c4f88a86",
   "metadata": {},
   "outputs": [
    {
     "data": {
      "text/plain": [
       "0        2020-10-22\n",
       "1        2020-05-20\n",
       "2        2020-11-11\n",
       "3        2021-02-05\n",
       "4        2020-10-07\n",
       "            ...    \n",
       "278832   2021-03-03\n",
       "278833   2020-06-25\n",
       "278834   2020-10-17\n",
       "278835   2020-08-28\n",
       "278836   2021-04-21\n",
       "Name: Date, Length: 278837, dtype: datetime64[ns]"
      ]
     },
     "execution_count": 33,
     "metadata": {},
     "output_type": "execute_result"
    }
   ],
   "source": [
    "new_r.pop('Date')"
   ]
  },
  {
   "cell_type": "code",
   "execution_count": 34,
   "id": "45135eae",
   "metadata": {},
   "outputs": [],
   "source": [
    "new_r.rename(columns = {'District':'districtid','Confirmed':'cases'}, inplace = True)"
   ]
  },
  {
   "cell_type": "code",
   "execution_count": 35,
   "id": "416c0685",
   "metadata": {},
   "outputs": [],
   "source": [
    "new_r = new_r[['districtid','weekid','cases']]"
   ]
  },
  {
   "cell_type": "code",
   "execution_count": 36,
   "id": "eba5d0ae",
   "metadata": {},
   "outputs": [],
   "source": [
    "l_new = new_r.sort_values(['districtid', 'weekid'], ascending=[True, True])"
   ]
  },
  {
   "cell_type": "code",
   "execution_count": 37,
   "id": "3c4ba9b2",
   "metadata": {},
   "outputs": [],
   "source": [
    "new_thing = l_new.groupby(['districtid','weekid'])['cases'].sum().reset_index()"
   ]
  },
  {
   "cell_type": "code",
   "execution_count": 38,
   "id": "114ae5c1",
   "metadata": {},
   "outputs": [],
   "source": [
    "new_thing.rename(columns = {'districtid':'District','Confirmed':'cases'}, inplace = True)"
   ]
  },
  {
   "cell_type": "code",
   "execution_count": 39,
   "id": "6b21f0fd",
   "metadata": {},
   "outputs": [],
   "source": [
    "la_stuff = pd.merge(dist_key, final_dist_key, how ='inner', on =[\"District_Key\"])"
   ]
  },
  {
   "cell_type": "code",
   "execution_count": 40,
   "id": "781330f0",
   "metadata": {},
   "outputs": [],
   "source": [
    "stuff_new  = pd.merge(la_stuff, new_thing, how ='inner', on =[\"District\"])"
   ]
  },
  {
   "cell_type": "code",
   "execution_count": 41,
   "id": "6c0bb680",
   "metadata": {},
   "outputs": [
    {
     "data": {
      "text/plain": [
       "0             Anantapur\n",
       "1             Anantapur\n",
       "2             Anantapur\n",
       "3             Anantapur\n",
       "4             Anantapur\n",
       "              ...      \n",
       "34318    Uttar Dinajpur\n",
       "34319    Uttar Dinajpur\n",
       "34320    Uttar Dinajpur\n",
       "34321    Uttar Dinajpur\n",
       "34322    Uttar Dinajpur\n",
       "Name: District, Length: 34323, dtype: object"
      ]
     },
     "execution_count": 41,
     "metadata": {},
     "output_type": "execute_result"
    }
   ],
   "source": [
    "stuff_new.pop('District')"
   ]
  },
  {
   "cell_type": "code",
   "execution_count": 42,
   "id": "840fb04b",
   "metadata": {},
   "outputs": [],
   "source": [
    "stuff_new.rename(columns = {'District_Key':'districtid'}, inplace = True)"
   ]
  },
  {
   "cell_type": "code",
   "execution_count": 43,
   "id": "f3057fd8",
   "metadata": {},
   "outputs": [],
   "source": [
    "stuff_new.to_csv('cases-week.csv')"
   ]
  },
  {
   "cell_type": "code",
   "execution_count": null,
   "id": "a1e01d70",
   "metadata": {},
   "outputs": [],
   "source": []
  },
  {
   "cell_type": "code",
   "execution_count": null,
   "id": "6beaaaaf",
   "metadata": {},
   "outputs": [],
   "source": []
  },
  {
   "cell_type": "code",
   "execution_count": null,
   "id": "978d57ee",
   "metadata": {},
   "outputs": [],
   "source": []
  },
  {
   "cell_type": "code",
   "execution_count": null,
   "id": "af91a9f3",
   "metadata": {},
   "outputs": [],
   "source": []
  },
  {
   "cell_type": "code",
   "execution_count": null,
   "id": "27ffb8a3",
   "metadata": {},
   "outputs": [],
   "source": []
  },
  {
   "cell_type": "code",
   "execution_count": null,
   "id": "fbd80512",
   "metadata": {},
   "outputs": [],
   "source": []
  },
  {
   "cell_type": "code",
   "execution_count": null,
   "id": "e41b84ef",
   "metadata": {},
   "outputs": [],
   "source": []
  },
  {
   "cell_type": "code",
   "execution_count": null,
   "id": "91f758f6",
   "metadata": {},
   "outputs": [],
   "source": []
  }
 ],
 "metadata": {
  "kernelspec": {
   "display_name": "Python 3 (ipykernel)",
   "language": "python",
   "name": "python3"
  },
  "language_info": {
   "codemirror_mode": {
    "name": "ipython",
    "version": 3
   },
   "file_extension": ".py",
   "mimetype": "text/x-python",
   "name": "python",
   "nbconvert_exporter": "python",
   "pygments_lexer": "ipython3",
   "version": "3.9.6"
  }
 },
 "nbformat": 4,
 "nbformat_minor": 5
}
